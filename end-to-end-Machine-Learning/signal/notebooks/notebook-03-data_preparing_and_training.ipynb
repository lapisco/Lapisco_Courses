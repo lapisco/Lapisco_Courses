{
 "cells": [
  {
   "cell_type": "code",
   "execution_count": 79,
   "metadata": {},
   "outputs": [],
   "source": [
    "import matplotlib.pyplot as plt\n",
    "import pandas as pd\n",
    "\n",
    "import joblib\n",
    "\n",
    "import warnings\n",
    "warnings.filterwarnings(\"ignore\")\n",
    "\n",
    "from os.path import join\n",
    "import sys"
   ]
  },
  {
   "cell_type": "code",
   "execution_count": 44,
   "metadata": {},
   "outputs": [],
   "source": [
    "DATAFOLDER = join('..', 'data')\n",
    "DATAFOLDER_RAW = join(DATAFOLDER, 'raw')"
   ]
  },
  {
   "cell_type": "markdown",
   "metadata": {},
   "source": [
    "# Load Data"
   ]
  },
  {
   "cell_type": "code",
   "execution_count": 45,
   "metadata": {},
   "outputs": [
    {
     "data": {
      "text/plain": [
       "'../data/raw/Current'"
      ]
     },
     "execution_count": 45,
     "metadata": {},
     "output_type": "execute_result"
    }
   ],
   "source": [
    "DATA_CURRENT_RAW_FOLDER = join(DATAFOLDER_RAW, 'Current')\n",
    "DATA_CURRENT_RAW_FOLDER"
   ]
  },
  {
   "cell_type": "code",
   "execution_count": 46,
   "metadata": {},
   "outputs": [
    {
     "data": {
      "text/plain": [
       "['../data/raw/Current/v000_NORMAL_FR6000_FG5955_L000_0,5IN_SENSORC.csv',\n",
       " '../data/raw/Current/v000_FAULT_SC_HI_LVL2_FR4500_FG4387_L000_0,9IN_SENSORC.csv',\n",
       " '../data/raw/Current/v000_FAULT_SC_LI_LVL3_FR6000_FG5923_L000_0,4IN_SENSORC.csv',\n",
       " '../data/raw/Current/v000_FAULT_SC_LI_LVL3_FR4500_FG4403_L000_0,5IN_SENSORC.csv',\n",
       " '../data/raw/Current/v000_NORMAL_FR4500_FG4421_L000_0,7IN_SENSORC.csv',\n",
       " '../data/raw/Current/v000_FAULT_SC_HI_LVL2_FR6000_FG5942_L000_0,6IN_SENSORC.csv']"
      ]
     },
     "execution_count": 46,
     "metadata": {},
     "output_type": "execute_result"
    }
   ],
   "source": [
    "import glob\n",
    "glob.glob(DATA_CURRENT_RAW_FOLDER + '/*')"
   ]
  },
  {
   "cell_type": "code",
   "execution_count": 47,
   "metadata": {},
   "outputs": [],
   "source": [
    "DATA_TO_READ = join(DATA_CURRENT_RAW_FOLDER, 'v000_NORMAL_FR6000_FG5955_L000_0,5IN_SENSORC.csv')"
   ]
  },
  {
   "cell_type": "code",
   "execution_count": 51,
   "metadata": {},
   "outputs": [
    {
     "data": {
      "text/html": [
       "<div>\n",
       "<style scoped>\n",
       "    .dataframe tbody tr th:only-of-type {\n",
       "        vertical-align: middle;\n",
       "    }\n",
       "\n",
       "    .dataframe tbody tr th {\n",
       "        vertical-align: top;\n",
       "    }\n",
       "\n",
       "    .dataframe thead th {\n",
       "        text-align: right;\n",
       "    }\n",
       "</style>\n",
       "<table border=\"1\" class=\"dataframe\">\n",
       "  <thead>\n",
       "    <tr style=\"text-align: right;\">\n",
       "      <th></th>\n",
       "      <th>Current_R</th>\n",
       "      <th>Current_S</th>\n",
       "      <th>Current_T</th>\n",
       "      <th>Current_hall_R</th>\n",
       "      <th>Current_hall_S</th>\n",
       "      <th>Current_hall_T</th>\n",
       "      <th>Freq_Rated</th>\n",
       "      <th>Freq_Gen</th>\n",
       "      <th>CC_bus</th>\n",
       "      <th>Power</th>\n",
       "      <th>Load</th>\n",
       "      <th>I_R_rms</th>\n",
       "      <th>I_S_rms</th>\n",
       "      <th>I_T_rms</th>\n",
       "    </tr>\n",
       "  </thead>\n",
       "  <tbody>\n",
       "    <tr>\n",
       "      <td>0</td>\n",
       "      <td>0.035657</td>\n",
       "      <td>-1.402470</td>\n",
       "      <td>1.414564</td>\n",
       "      <td>2.713690</td>\n",
       "      <td>2.394956</td>\n",
       "      <td>2.550505</td>\n",
       "      <td>60</td>\n",
       "      <td>59.55</td>\n",
       "      <td>210</td>\n",
       "      <td>0.1</td>\n",
       "      <td>0</td>\n",
       "      <td>1.184284</td>\n",
       "      <td>1.188929</td>\n",
       "      <td>1.197345</td>\n",
       "    </tr>\n",
       "    <tr>\n",
       "      <td>1</td>\n",
       "      <td>-0.104310</td>\n",
       "      <td>-1.389744</td>\n",
       "      <td>1.478187</td>\n",
       "      <td>2.695843</td>\n",
       "      <td>2.109424</td>\n",
       "      <td>2.547956</td>\n",
       "      <td>60</td>\n",
       "      <td>59.55</td>\n",
       "      <td>210</td>\n",
       "      <td>0.1</td>\n",
       "      <td>0</td>\n",
       "      <td>1.184284</td>\n",
       "      <td>1.188929</td>\n",
       "      <td>1.197345</td>\n",
       "    </tr>\n",
       "    <tr>\n",
       "      <td>2</td>\n",
       "      <td>-0.218827</td>\n",
       "      <td>-1.338842</td>\n",
       "      <td>1.618156</td>\n",
       "      <td>2.698393</td>\n",
       "      <td>2.349067</td>\n",
       "      <td>2.578549</td>\n",
       "      <td>60</td>\n",
       "      <td>59.55</td>\n",
       "      <td>210</td>\n",
       "      <td>0.1</td>\n",
       "      <td>0</td>\n",
       "      <td>1.184284</td>\n",
       "      <td>1.188929</td>\n",
       "      <td>1.197345</td>\n",
       "    </tr>\n",
       "    <tr>\n",
       "      <td>3</td>\n",
       "      <td>-0.295173</td>\n",
       "      <td>-1.224312</td>\n",
       "      <td>1.579983</td>\n",
       "      <td>2.685645</td>\n",
       "      <td>2.422999</td>\n",
       "      <td>2.573450</td>\n",
       "      <td>60</td>\n",
       "      <td>59.55</td>\n",
       "      <td>210</td>\n",
       "      <td>0.1</td>\n",
       "      <td>0</td>\n",
       "      <td>1.184284</td>\n",
       "      <td>1.188929</td>\n",
       "      <td>1.197345</td>\n",
       "    </tr>\n",
       "    <tr>\n",
       "      <td>4</td>\n",
       "      <td>-0.486036</td>\n",
       "      <td>-1.275214</td>\n",
       "      <td>1.809024</td>\n",
       "      <td>2.670347</td>\n",
       "      <td>2.305727</td>\n",
       "      <td>2.604043</td>\n",
       "      <td>60</td>\n",
       "      <td>59.55</td>\n",
       "      <td>210</td>\n",
       "      <td>0.1</td>\n",
       "      <td>0</td>\n",
       "      <td>1.184284</td>\n",
       "      <td>1.188929</td>\n",
       "      <td>1.197345</td>\n",
       "    </tr>\n",
       "  </tbody>\n",
       "</table>\n",
       "</div>"
      ],
      "text/plain": [
       "   Current_R  Current_S  Current_T  Current_hall_R  Current_hall_S  \\\n",
       "0   0.035657  -1.402470   1.414564        2.713690        2.394956   \n",
       "1  -0.104310  -1.389744   1.478187        2.695843        2.109424   \n",
       "2  -0.218827  -1.338842   1.618156        2.698393        2.349067   \n",
       "3  -0.295173  -1.224312   1.579983        2.685645        2.422999   \n",
       "4  -0.486036  -1.275214   1.809024        2.670347        2.305727   \n",
       "\n",
       "   Current_hall_T  Freq_Rated  Freq_Gen  CC_bus  Power  Load   I_R_rms  \\\n",
       "0        2.550505          60     59.55     210    0.1     0  1.184284   \n",
       "1        2.547956          60     59.55     210    0.1     0  1.184284   \n",
       "2        2.578549          60     59.55     210    0.1     0  1.184284   \n",
       "3        2.573450          60     59.55     210    0.1     0  1.184284   \n",
       "4        2.604043          60     59.55     210    0.1     0  1.184284   \n",
       "\n",
       "    I_S_rms   I_T_rms  \n",
       "0  1.188929  1.197345  \n",
       "1  1.188929  1.197345  \n",
       "2  1.188929  1.197345  \n",
       "3  1.188929  1.197345  \n",
       "4  1.188929  1.197345  "
      ]
     },
     "execution_count": 51,
     "metadata": {},
     "output_type": "execute_result"
    }
   ],
   "source": [
    "data_raw_normal = pd.read_csv(DATA_TO_READ)\n",
    "data_raw_normal.head()"
   ]
  },
  {
   "cell_type": "code",
   "execution_count": 53,
   "metadata": {},
   "outputs": [
    {
     "data": {
      "text/plain": [
       "pandas.core.frame.DataFrame"
      ]
     },
     "execution_count": 53,
     "metadata": {},
     "output_type": "execute_result"
    }
   ],
   "source": [
    "type(data_raw_normal)"
   ]
  },
  {
   "cell_type": "code",
   "execution_count": 54,
   "metadata": {},
   "outputs": [
    {
     "data": {
      "text/html": [
       "<div>\n",
       "<style scoped>\n",
       "    .dataframe tbody tr th:only-of-type {\n",
       "        vertical-align: middle;\n",
       "    }\n",
       "\n",
       "    .dataframe tbody tr th {\n",
       "        vertical-align: top;\n",
       "    }\n",
       "\n",
       "    .dataframe thead th {\n",
       "        text-align: right;\n",
       "    }\n",
       "</style>\n",
       "<table border=\"1\" class=\"dataframe\">\n",
       "  <thead>\n",
       "    <tr style=\"text-align: right;\">\n",
       "      <th></th>\n",
       "      <th>Current_R</th>\n",
       "      <th>Current_S</th>\n",
       "      <th>Current_T</th>\n",
       "      <th>Current_hall_R</th>\n",
       "      <th>Current_hall_S</th>\n",
       "      <th>Current_hall_T</th>\n",
       "      <th>Freq_Rated</th>\n",
       "      <th>Freq_Gen</th>\n",
       "      <th>CC_bus</th>\n",
       "      <th>Power</th>\n",
       "      <th>Load</th>\n",
       "      <th>I_R_rms</th>\n",
       "      <th>I_S_rms</th>\n",
       "      <th>I_T_rms</th>\n",
       "    </tr>\n",
       "  </thead>\n",
       "  <tbody>\n",
       "    <tr>\n",
       "      <td>count</td>\n",
       "      <td>50000.000000</td>\n",
       "      <td>50000.000000</td>\n",
       "      <td>50000.000000</td>\n",
       "      <td>50000.000000</td>\n",
       "      <td>50000.000000</td>\n",
       "      <td>50000.000000</td>\n",
       "      <td>50000.0</td>\n",
       "      <td>5.000000e+04</td>\n",
       "      <td>50000.0</td>\n",
       "      <td>5.000000e+04</td>\n",
       "      <td>50000.0</td>\n",
       "      <td>5.000000e+04</td>\n",
       "      <td>50000.000000</td>\n",
       "      <td>5.000000e+04</td>\n",
       "    </tr>\n",
       "    <tr>\n",
       "      <td>mean</td>\n",
       "      <td>-0.010286</td>\n",
       "      <td>0.012611</td>\n",
       "      <td>0.002357</td>\n",
       "      <td>2.499768</td>\n",
       "      <td>2.496935</td>\n",
       "      <td>2.491380</td>\n",
       "      <td>60.0</td>\n",
       "      <td>5.955000e+01</td>\n",
       "      <td>210.0</td>\n",
       "      <td>1.000000e-01</td>\n",
       "      <td>0.0</td>\n",
       "      <td>1.184284e+00</td>\n",
       "      <td>1.188929</td>\n",
       "      <td>1.197345e+00</td>\n",
       "    </tr>\n",
       "    <tr>\n",
       "      <td>std</td>\n",
       "      <td>1.184251</td>\n",
       "      <td>1.188874</td>\n",
       "      <td>1.197354</td>\n",
       "      <td>0.135501</td>\n",
       "      <td>0.135031</td>\n",
       "      <td>0.125434</td>\n",
       "      <td>0.0</td>\n",
       "      <td>2.842199e-14</td>\n",
       "      <td>0.0</td>\n",
       "      <td>1.387793e-17</td>\n",
       "      <td>0.0</td>\n",
       "      <td>4.440937e-16</td>\n",
       "      <td>0.000000</td>\n",
       "      <td>2.220468e-16</td>\n",
       "    </tr>\n",
       "    <tr>\n",
       "      <td>min</td>\n",
       "      <td>-2.610977</td>\n",
       "      <td>-3.031342</td>\n",
       "      <td>-3.497098</td>\n",
       "      <td>0.299238</td>\n",
       "      <td>-0.083057</td>\n",
       "      <td>0.230558</td>\n",
       "      <td>60.0</td>\n",
       "      <td>5.955000e+01</td>\n",
       "      <td>210.0</td>\n",
       "      <td>1.000000e-01</td>\n",
       "      <td>0.0</td>\n",
       "      <td>1.184284e+00</td>\n",
       "      <td>1.188929</td>\n",
       "      <td>1.197345e+00</td>\n",
       "    </tr>\n",
       "    <tr>\n",
       "      <td>25%</td>\n",
       "      <td>-1.185867</td>\n",
       "      <td>-1.173410</td>\n",
       "      <td>-1.181236</td>\n",
       "      <td>2.389894</td>\n",
       "      <td>2.382209</td>\n",
       "      <td>2.379696</td>\n",
       "      <td>60.0</td>\n",
       "      <td>5.955000e+01</td>\n",
       "      <td>210.0</td>\n",
       "      <td>1.000000e-01</td>\n",
       "      <td>0.0</td>\n",
       "      <td>1.184284e+00</td>\n",
       "      <td>1.188929</td>\n",
       "      <td>1.197345e+00</td>\n",
       "    </tr>\n",
       "    <tr>\n",
       "      <td>50%</td>\n",
       "      <td>-0.015240</td>\n",
       "      <td>-0.002658</td>\n",
       "      <td>0.002143</td>\n",
       "      <td>2.502075</td>\n",
       "      <td>2.499481</td>\n",
       "      <td>2.491869</td>\n",
       "      <td>60.0</td>\n",
       "      <td>5.955000e+01</td>\n",
       "      <td>210.0</td>\n",
       "      <td>1.000000e-01</td>\n",
       "      <td>0.0</td>\n",
       "      <td>1.184284e+00</td>\n",
       "      <td>1.188929</td>\n",
       "      <td>1.197345e+00</td>\n",
       "    </tr>\n",
       "    <tr>\n",
       "      <td>75%</td>\n",
       "      <td>1.180835</td>\n",
       "      <td>1.206271</td>\n",
       "      <td>1.198247</td>\n",
       "      <td>2.611707</td>\n",
       "      <td>2.614204</td>\n",
       "      <td>2.604043</td>\n",
       "      <td>60.0</td>\n",
       "      <td>5.955000e+01</td>\n",
       "      <td>210.0</td>\n",
       "      <td>1.000000e-01</td>\n",
       "      <td>0.0</td>\n",
       "      <td>1.184284e+00</td>\n",
       "      <td>1.188929</td>\n",
       "      <td>1.197345e+00</td>\n",
       "    </tr>\n",
       "    <tr>\n",
       "      <td>max</td>\n",
       "      <td>3.140361</td>\n",
       "      <td>3.229635</td>\n",
       "      <td>3.654078</td>\n",
       "      <td>3.236354</td>\n",
       "      <td>3.305090</td>\n",
       "      <td>3.284730</td>\n",
       "      <td>60.0</td>\n",
       "      <td>5.955000e+01</td>\n",
       "      <td>210.0</td>\n",
       "      <td>1.000000e-01</td>\n",
       "      <td>0.0</td>\n",
       "      <td>1.184284e+00</td>\n",
       "      <td>1.188929</td>\n",
       "      <td>1.197345e+00</td>\n",
       "    </tr>\n",
       "  </tbody>\n",
       "</table>\n",
       "</div>"
      ],
      "text/plain": [
       "          Current_R     Current_S     Current_T  Current_hall_R  \\\n",
       "count  50000.000000  50000.000000  50000.000000    50000.000000   \n",
       "mean      -0.010286      0.012611      0.002357        2.499768   \n",
       "std        1.184251      1.188874      1.197354        0.135501   \n",
       "min       -2.610977     -3.031342     -3.497098        0.299238   \n",
       "25%       -1.185867     -1.173410     -1.181236        2.389894   \n",
       "50%       -0.015240     -0.002658      0.002143        2.502075   \n",
       "75%        1.180835      1.206271      1.198247        2.611707   \n",
       "max        3.140361      3.229635      3.654078        3.236354   \n",
       "\n",
       "       Current_hall_S  Current_hall_T  Freq_Rated      Freq_Gen   CC_bus  \\\n",
       "count    50000.000000    50000.000000     50000.0  5.000000e+04  50000.0   \n",
       "mean         2.496935        2.491380        60.0  5.955000e+01    210.0   \n",
       "std          0.135031        0.125434         0.0  2.842199e-14      0.0   \n",
       "min         -0.083057        0.230558        60.0  5.955000e+01    210.0   \n",
       "25%          2.382209        2.379696        60.0  5.955000e+01    210.0   \n",
       "50%          2.499481        2.491869        60.0  5.955000e+01    210.0   \n",
       "75%          2.614204        2.604043        60.0  5.955000e+01    210.0   \n",
       "max          3.305090        3.284730        60.0  5.955000e+01    210.0   \n",
       "\n",
       "              Power     Load       I_R_rms       I_S_rms       I_T_rms  \n",
       "count  5.000000e+04  50000.0  5.000000e+04  50000.000000  5.000000e+04  \n",
       "mean   1.000000e-01      0.0  1.184284e+00      1.188929  1.197345e+00  \n",
       "std    1.387793e-17      0.0  4.440937e-16      0.000000  2.220468e-16  \n",
       "min    1.000000e-01      0.0  1.184284e+00      1.188929  1.197345e+00  \n",
       "25%    1.000000e-01      0.0  1.184284e+00      1.188929  1.197345e+00  \n",
       "50%    1.000000e-01      0.0  1.184284e+00      1.188929  1.197345e+00  \n",
       "75%    1.000000e-01      0.0  1.184284e+00      1.188929  1.197345e+00  \n",
       "max    1.000000e-01      0.0  1.184284e+00      1.188929  1.197345e+00  "
      ]
     },
     "execution_count": 54,
     "metadata": {},
     "output_type": "execute_result"
    }
   ],
   "source": [
    "data_raw_normal.describe()"
   ]
  },
  {
   "cell_type": "code",
   "execution_count": 55,
   "metadata": {},
   "outputs": [
    {
     "data": {
      "text/plain": [
       "array([[<matplotlib.axes._subplots.AxesSubplot object at 0x7fe3edae2400>,\n",
       "        <matplotlib.axes._subplots.AxesSubplot object at 0x7fe3e9508c18>,\n",
       "        <matplotlib.axes._subplots.AxesSubplot object at 0x7fe3e9d68ac8>,\n",
       "        <matplotlib.axes._subplots.AxesSubplot object at 0x7fe3e9fd3fd0>],\n",
       "       [<matplotlib.axes._subplots.AxesSubplot object at 0x7fe3e8ede160>,\n",
       "        <matplotlib.axes._subplots.AxesSubplot object at 0x7fe3e929a2b0>,\n",
       "        <matplotlib.axes._subplots.AxesSubplot object at 0x7fe3e907c400>,\n",
       "        <matplotlib.axes._subplots.AxesSubplot object at 0x7fe3e8dcb588>],\n",
       "       [<matplotlib.axes._subplots.AxesSubplot object at 0x7fe3e8dcb5c0>,\n",
       "        <matplotlib.axes._subplots.AxesSubplot object at 0x7fe3e93617f0>,\n",
       "        <matplotlib.axes._subplots.AxesSubplot object at 0x7fe3e92ba940>,\n",
       "        <matplotlib.axes._subplots.AxesSubplot object at 0x7fe3e9243a90>],\n",
       "       [<matplotlib.axes._subplots.AxesSubplot object at 0x7fe3e9209be0>,\n",
       "        <matplotlib.axes._subplots.AxesSubplot object at 0x7fe3e93a2d30>,\n",
       "        <matplotlib.axes._subplots.AxesSubplot object at 0x7fe3f229ef60>,\n",
       "        <matplotlib.axes._subplots.AxesSubplot object at 0x7fe3e93e9550>]],\n",
       "      dtype=object)"
      ]
     },
     "execution_count": 55,
     "metadata": {},
     "output_type": "execute_result"
    }
   ],
   "source": [
    "data_raw_normal.hist()"
   ]
  },
  {
   "cell_type": "markdown",
   "metadata": {},
   "source": [
    "### All currents"
   ]
  },
  {
   "cell_type": "code",
   "execution_count": 56,
   "metadata": {},
   "outputs": [],
   "source": [
    "%matplotlib tk\n",
    "plt.plot(data_raw_normal['Current_R'])\n",
    "plt.plot(data_raw_normal['Current_S'])\n",
    "plt.plot(data_raw_normal['Current_T'])\n",
    "\n",
    "plt.legend(['R', 'S', 'T'])\n",
    "\n",
    "plt.show()"
   ]
  },
  {
   "cell_type": "markdown",
   "metadata": {},
   "source": [
    "### Normal **vs** Most critical Fault"
   ]
  },
  {
   "cell_type": "code",
   "execution_count": 9,
   "metadata": {},
   "outputs": [],
   "source": [
    "DATA_TO_READ = join(DATA_CURRENT_RAW_FOLDER, 'v000_FAULT_SC_LI_LVL3_FR6000_FG5923_L000_0,4IN_SENSORC.csv')\n",
    "data_raw_fault = pd.read_csv(DATA_TO_READ)"
   ]
  },
  {
   "cell_type": "code",
   "execution_count": 57,
   "metadata": {},
   "outputs": [],
   "source": [
    "%matplotlib tk\n",
    "plt.plot(data_raw_normal['Current_R'])\n",
    "plt.plot(data_raw_fault['Current_R'])\n",
    "\n",
    "plt.legend(['R-Normal', 'R-Fault'])\n",
    "\n",
    "plt.show()"
   ]
  },
  {
   "cell_type": "markdown",
   "metadata": {},
   "source": [
    "### Normal **vs** Least critical Fault"
   ]
  },
  {
   "cell_type": "code",
   "execution_count": 58,
   "metadata": {},
   "outputs": [],
   "source": [
    "DATA_TO_READ = join(DATA_CURRENT_RAW_FOLDER, 'v000_FAULT_SC_HI_LVL2_FR6000_FG5942_L000_0,6IN_SENSORC.csv')\n",
    "data_raw_fault_least = pd.read_csv(DATA_TO_READ)"
   ]
  },
  {
   "cell_type": "code",
   "execution_count": 64,
   "metadata": {},
   "outputs": [],
   "source": [
    "%matplotlib tk\n",
    "plt.plot(data_raw_normal['Current_R'])\n",
    "plt.plot(data_raw_fault_least['Current_R'])\n",
    "\n",
    "plt.legend(['R-Normal', 'R-Fault'])\n",
    "\n",
    "plt.show()"
   ]
  },
  {
   "cell_type": "markdown",
   "metadata": {},
   "source": [
    "# Create pipelines"
   ]
  },
  {
   "cell_type": "code",
   "execution_count": 14,
   "metadata": {},
   "outputs": [],
   "source": [
    "from sklearn.pipeline import Pipeline, FeatureUnion\n",
    "sys.path.append('../src')\n",
    "from transforms import *"
   ]
  },
  {
   "cell_type": "code",
   "execution_count": 15,
   "metadata": {},
   "outputs": [],
   "source": [
    "MODELS_FOLDER = join('..', 'models')\n",
    "SELECTOR_FOLDER = join(MODELS_FOLDER, 'selector')\n",
    "SCALER_FOLDER = join(MODELS_FOLDER, 'scaler')"
   ]
  },
  {
   "cell_type": "code",
   "execution_count": 128,
   "metadata": {},
   "outputs": [
    {
     "data": {
      "text/html": [
       "<div>\n",
       "<style scoped>\n",
       "    .dataframe tbody tr th:only-of-type {\n",
       "        vertical-align: middle;\n",
       "    }\n",
       "\n",
       "    .dataframe tbody tr th {\n",
       "        vertical-align: top;\n",
       "    }\n",
       "\n",
       "    .dataframe thead th {\n",
       "        text-align: right;\n",
       "    }\n",
       "</style>\n",
       "<table border=\"1\" class=\"dataframe\">\n",
       "  <thead>\n",
       "    <tr style=\"text-align: right;\">\n",
       "      <th></th>\n",
       "      <th>idx</th>\n",
       "      <th>fx1_R</th>\n",
       "      <th>fx0d5_R</th>\n",
       "      <th>fx1d5_R</th>\n",
       "      <th>fx2d5_R</th>\n",
       "      <th>fx3_R</th>\n",
       "      <th>fx5_R</th>\n",
       "      <th>fx7_R</th>\n",
       "      <th>fx1_S</th>\n",
       "      <th>fx0d5_S</th>\n",
       "      <th>...</th>\n",
       "      <th>fx7_T</th>\n",
       "      <th>Freq_Rated</th>\n",
       "      <th>Freq_Gen</th>\n",
       "      <th>CC_bus</th>\n",
       "      <th>Power</th>\n",
       "      <th>I_R_rms</th>\n",
       "      <th>I_S_rms</th>\n",
       "      <th>I_T_rms</th>\n",
       "      <th>Load</th>\n",
       "      <th>Class</th>\n",
       "    </tr>\n",
       "  </thead>\n",
       "  <tbody>\n",
       "    <tr>\n",
       "      <td>0</td>\n",
       "      <td>1</td>\n",
       "      <td>1.0</td>\n",
       "      <td>0.007299</td>\n",
       "      <td>0.006626</td>\n",
       "      <td>0.000968</td>\n",
       "      <td>0.023378</td>\n",
       "      <td>0.023553</td>\n",
       "      <td>0.006339</td>\n",
       "      <td>1.0</td>\n",
       "      <td>0.007219</td>\n",
       "      <td>...</td>\n",
       "      <td>0.006059</td>\n",
       "      <td>45.0</td>\n",
       "      <td>43.85</td>\n",
       "      <td>369</td>\n",
       "      <td>0.57</td>\n",
       "      <td>2.906343</td>\n",
       "      <td>2.920356</td>\n",
       "      <td>2.986445</td>\n",
       "      <td>0</td>\n",
       "      <td>1</td>\n",
       "    </tr>\n",
       "    <tr>\n",
       "      <td>1</td>\n",
       "      <td>2</td>\n",
       "      <td>1.0</td>\n",
       "      <td>0.003416</td>\n",
       "      <td>0.006184</td>\n",
       "      <td>0.001155</td>\n",
       "      <td>0.023907</td>\n",
       "      <td>0.013409</td>\n",
       "      <td>0.005977</td>\n",
       "      <td>1.0</td>\n",
       "      <td>0.003368</td>\n",
       "      <td>...</td>\n",
       "      <td>0.005722</td>\n",
       "      <td>45.0</td>\n",
       "      <td>43.87</td>\n",
       "      <td>368</td>\n",
       "      <td>0.55</td>\n",
       "      <td>2.885150</td>\n",
       "      <td>2.896358</td>\n",
       "      <td>2.962763</td>\n",
       "      <td>0</td>\n",
       "      <td>1</td>\n",
       "    </tr>\n",
       "    <tr>\n",
       "      <td>2</td>\n",
       "      <td>3</td>\n",
       "      <td>1.0</td>\n",
       "      <td>0.003490</td>\n",
       "      <td>0.004380</td>\n",
       "      <td>0.000786</td>\n",
       "      <td>0.018111</td>\n",
       "      <td>0.011143</td>\n",
       "      <td>0.005009</td>\n",
       "      <td>1.0</td>\n",
       "      <td>0.003484</td>\n",
       "      <td>...</td>\n",
       "      <td>0.004889</td>\n",
       "      <td>45.0</td>\n",
       "      <td>43.89</td>\n",
       "      <td>367</td>\n",
       "      <td>0.55</td>\n",
       "      <td>2.851384</td>\n",
       "      <td>2.863890</td>\n",
       "      <td>2.935414</td>\n",
       "      <td>0</td>\n",
       "      <td>1</td>\n",
       "    </tr>\n",
       "    <tr>\n",
       "      <td>3</td>\n",
       "      <td>4</td>\n",
       "      <td>1.0</td>\n",
       "      <td>0.002984</td>\n",
       "      <td>0.002304</td>\n",
       "      <td>0.000533</td>\n",
       "      <td>0.019345</td>\n",
       "      <td>0.014027</td>\n",
       "      <td>0.004023</td>\n",
       "      <td>1.0</td>\n",
       "      <td>0.002979</td>\n",
       "      <td>...</td>\n",
       "      <td>0.003913</td>\n",
       "      <td>45.0</td>\n",
       "      <td>43.91</td>\n",
       "      <td>365</td>\n",
       "      <td>0.53</td>\n",
       "      <td>2.819084</td>\n",
       "      <td>2.827510</td>\n",
       "      <td>2.900116</td>\n",
       "      <td>0</td>\n",
       "      <td>1</td>\n",
       "    </tr>\n",
       "    <tr>\n",
       "      <td>4</td>\n",
       "      <td>5</td>\n",
       "      <td>1.0</td>\n",
       "      <td>0.004993</td>\n",
       "      <td>0.004015</td>\n",
       "      <td>0.001150</td>\n",
       "      <td>0.025392</td>\n",
       "      <td>0.018566</td>\n",
       "      <td>0.004693</td>\n",
       "      <td>1.0</td>\n",
       "      <td>0.004956</td>\n",
       "      <td>...</td>\n",
       "      <td>0.004557</td>\n",
       "      <td>45.0</td>\n",
       "      <td>43.93</td>\n",
       "      <td>363</td>\n",
       "      <td>0.52</td>\n",
       "      <td>2.761420</td>\n",
       "      <td>2.774290</td>\n",
       "      <td>2.844834</td>\n",
       "      <td>0</td>\n",
       "      <td>1</td>\n",
       "    </tr>\n",
       "  </tbody>\n",
       "</table>\n",
       "<p>5 rows × 31 columns</p>\n",
       "</div>"
      ],
      "text/plain": [
       "   idx  fx1_R   fx0d5_R   fx1d5_R   fx2d5_R     fx3_R     fx5_R     fx7_R  \\\n",
       "0    1    1.0  0.007299  0.006626  0.000968  0.023378  0.023553  0.006339   \n",
       "1    2    1.0  0.003416  0.006184  0.001155  0.023907  0.013409  0.005977   \n",
       "2    3    1.0  0.003490  0.004380  0.000786  0.018111  0.011143  0.005009   \n",
       "3    4    1.0  0.002984  0.002304  0.000533  0.019345  0.014027  0.004023   \n",
       "4    5    1.0  0.004993  0.004015  0.001150  0.025392  0.018566  0.004693   \n",
       "\n",
       "   fx1_S   fx0d5_S  ...     fx7_T  Freq_Rated  Freq_Gen  CC_bus  Power  \\\n",
       "0    1.0  0.007219  ...  0.006059        45.0     43.85     369   0.57   \n",
       "1    1.0  0.003368  ...  0.005722        45.0     43.87     368   0.55   \n",
       "2    1.0  0.003484  ...  0.004889        45.0     43.89     367   0.55   \n",
       "3    1.0  0.002979  ...  0.003913        45.0     43.91     365   0.53   \n",
       "4    1.0  0.004956  ...  0.004557        45.0     43.93     363   0.52   \n",
       "\n",
       "    I_R_rms   I_S_rms   I_T_rms  Load  Class  \n",
       "0  2.906343  2.920356  2.986445     0      1  \n",
       "1  2.885150  2.896358  2.962763     0      1  \n",
       "2  2.851384  2.863890  2.935414     0      1  \n",
       "3  2.819084  2.827510  2.900116     0      1  \n",
       "4  2.761420  2.774290  2.844834     0      1  \n",
       "\n",
       "[5 rows x 31 columns]"
      ]
     },
     "execution_count": 128,
     "metadata": {},
     "output_type": "execute_result"
    }
   ],
   "source": [
    "data_extracted = pd.read_csv(join(DATA_FOLDER, 'v000_SCIG_SC_SENSORC_FOURIER.csv'))\n",
    "data_extracted.head()"
   ]
  },
  {
   "cell_type": "code",
   "execution_count": 129,
   "metadata": {},
   "outputs": [],
   "source": [
    "FEATURES = ['fx0d5_R', 'fx1d5_R', 'fx2d5_R', 'fx3_R', 'fx5_R', 'fx7_R']"
   ]
  },
  {
   "cell_type": "code",
   "execution_count": 155,
   "metadata": {},
   "outputs": [
    {
     "data": {
      "text/html": [
       "<div>\n",
       "<style scoped>\n",
       "    .dataframe tbody tr th:only-of-type {\n",
       "        vertical-align: middle;\n",
       "    }\n",
       "\n",
       "    .dataframe tbody tr th {\n",
       "        vertical-align: top;\n",
       "    }\n",
       "\n",
       "    .dataframe thead th {\n",
       "        text-align: right;\n",
       "    }\n",
       "</style>\n",
       "<table border=\"1\" class=\"dataframe\">\n",
       "  <thead>\n",
       "    <tr style=\"text-align: right;\">\n",
       "      <th></th>\n",
       "      <th>fx0d5_R</th>\n",
       "      <th>fx1d5_R</th>\n",
       "      <th>fx2d5_R</th>\n",
       "      <th>fx3_R</th>\n",
       "      <th>fx5_R</th>\n",
       "      <th>fx7_R</th>\n",
       "    </tr>\n",
       "  </thead>\n",
       "  <tbody>\n",
       "    <tr>\n",
       "      <td>0</td>\n",
       "      <td>0.007299</td>\n",
       "      <td>0.006626</td>\n",
       "      <td>0.000968</td>\n",
       "      <td>0.023378</td>\n",
       "      <td>0.023553</td>\n",
       "      <td>0.006339</td>\n",
       "    </tr>\n",
       "    <tr>\n",
       "      <td>1</td>\n",
       "      <td>0.003416</td>\n",
       "      <td>0.006184</td>\n",
       "      <td>0.001155</td>\n",
       "      <td>0.023907</td>\n",
       "      <td>0.013409</td>\n",
       "      <td>0.005977</td>\n",
       "    </tr>\n",
       "    <tr>\n",
       "      <td>2</td>\n",
       "      <td>0.003490</td>\n",
       "      <td>0.004380</td>\n",
       "      <td>0.000786</td>\n",
       "      <td>0.018111</td>\n",
       "      <td>0.011143</td>\n",
       "      <td>0.005009</td>\n",
       "    </tr>\n",
       "    <tr>\n",
       "      <td>3</td>\n",
       "      <td>0.002984</td>\n",
       "      <td>0.002304</td>\n",
       "      <td>0.000533</td>\n",
       "      <td>0.019345</td>\n",
       "      <td>0.014027</td>\n",
       "      <td>0.004023</td>\n",
       "    </tr>\n",
       "    <tr>\n",
       "      <td>4</td>\n",
       "      <td>0.004993</td>\n",
       "      <td>0.004015</td>\n",
       "      <td>0.001150</td>\n",
       "      <td>0.025392</td>\n",
       "      <td>0.018566</td>\n",
       "      <td>0.004693</td>\n",
       "    </tr>\n",
       "  </tbody>\n",
       "</table>\n",
       "</div>"
      ],
      "text/plain": [
       "    fx0d5_R   fx1d5_R   fx2d5_R     fx3_R     fx5_R     fx7_R\n",
       "0  0.007299  0.006626  0.000968  0.023378  0.023553  0.006339\n",
       "1  0.003416  0.006184  0.001155  0.023907  0.013409  0.005977\n",
       "2  0.003490  0.004380  0.000786  0.018111  0.011143  0.005009\n",
       "3  0.002984  0.002304  0.000533  0.019345  0.014027  0.004023\n",
       "4  0.004993  0.004015  0.001150  0.025392  0.018566  0.004693"
      ]
     },
     "execution_count": 155,
     "metadata": {},
     "output_type": "execute_result"
    }
   ],
   "source": [
    "data_selected = data_extracted[FEATURES]\n",
    "data_selected.head()"
   ]
  },
  {
   "cell_type": "code",
   "execution_count": 156,
   "metadata": {},
   "outputs": [
    {
     "data": {
      "text/plain": [
       "(1356, 6)"
      ]
     },
     "execution_count": 156,
     "metadata": {},
     "output_type": "execute_result"
    }
   ],
   "source": [
    "data_selected.shape"
   ]
  },
  {
   "cell_type": "code",
   "execution_count": 157,
   "metadata": {},
   "outputs": [],
   "source": [
    "from sklearn.preprocessing import StandardScaler\n",
    "scaler = StandardScaler()"
   ]
  },
  {
   "cell_type": "code",
   "execution_count": 158,
   "metadata": {},
   "outputs": [],
   "source": [
    "full_pipeline = Pipeline(\n",
    "        [\n",
    "            ('scaler', scaler),\n",
    "        ]\n",
    "    )"
   ]
  },
  {
   "cell_type": "code",
   "execution_count": 164,
   "metadata": {},
   "outputs": [
    {
     "name": "stdout",
     "output_type": "stream",
     "text": [
      "[-0.48480222 -0.32686418 -1.15543388 -0.89916022 -1.04780743 -1.55640884]\n"
     ]
    }
   ],
   "source": [
    "X = full_pipeline.fit_transform(data_selected.values)\n",
    "y = data_extracted['Class']\n",
    "print(X[0,:])"
   ]
  },
  {
   "cell_type": "markdown",
   "metadata": {},
   "source": [
    "### Train classifier "
   ]
  },
  {
   "cell_type": "code",
   "execution_count": 135,
   "metadata": {},
   "outputs": [],
   "source": [
    "from sklearn.neural_network import MLPClassifier"
   ]
  },
  {
   "cell_type": "code",
   "execution_count": 136,
   "metadata": {},
   "outputs": [],
   "source": [
    "clf_mlp = MLPClassifier()"
   ]
  },
  {
   "cell_type": "code",
   "execution_count": 137,
   "metadata": {},
   "outputs": [],
   "source": [
    "from sklearn.model_selection import StratifiedKFold\n",
    "\n",
    "skf = StratifiedKFold(n_splits=2, shuffle=True)"
   ]
  },
  {
   "cell_type": "code",
   "execution_count": 138,
   "metadata": {},
   "outputs": [],
   "source": [
    "for train_index, test_index in skf.split(X, y):\n",
    "    X_train = X[train_index]\n",
    "    X_test = X[test_index]\n",
    "    y_train = y[train_index]\n",
    "    y_test = y[test_index]\n",
    "    \n",
    "    clf_mlp.fit(X_train, y_train)"
   ]
  },
  {
   "cell_type": "code",
   "execution_count": 139,
   "metadata": {},
   "outputs": [],
   "source": [
    "y_hat = clf_mlp.predict(X_test)"
   ]
  },
  {
   "cell_type": "markdown",
   "metadata": {},
   "source": [
    "## Calculate metrics"
   ]
  },
  {
   "cell_type": "code",
   "execution_count": 140,
   "metadata": {},
   "outputs": [],
   "source": [
    "from sklearn.metrics import accuracy_score, f1_score, precision_score, recall_score, confusion_matrix"
   ]
  },
  {
   "cell_type": "code",
   "execution_count": 141,
   "metadata": {},
   "outputs": [
    {
     "data": {
      "text/plain": [
       "60.946745562130175"
      ]
     },
     "execution_count": 141,
     "metadata": {},
     "output_type": "execute_result"
    }
   ],
   "source": [
    "accuracy_score(y_test, y_hat)*100"
   ]
  },
  {
   "cell_type": "code",
   "execution_count": 142,
   "metadata": {},
   "outputs": [
    {
     "data": {
      "text/plain": [
       "array([[121,   1,   1,   0,   0,   1,   0],\n",
       "       [  2,  31,  13,  14,  22,  19,   0],\n",
       "       [  0,  16,  32,  23,  10,   7,   1],\n",
       "       [  0,   8,  12,  65,   0,   6,   0],\n",
       "       [  1,  21,  16,  14,  20,  13,   3],\n",
       "       [  0,  10,   6,  10,   1,  71,   6],\n",
       "       [  0,   0,   0,   0,   0,   7,  72]])"
      ]
     },
     "execution_count": 142,
     "metadata": {},
     "output_type": "execute_result"
    }
   ],
   "source": [
    "confusion_matrix(y_test, y_hat)"
   ]
  },
  {
   "cell_type": "markdown",
   "metadata": {},
   "source": [
    "# How to deploy???"
   ]
  },
  {
   "cell_type": "code",
   "execution_count": 143,
   "metadata": {},
   "outputs": [],
   "source": [
    "sys.path.append('..src/feature_extraction')"
   ]
  },
  {
   "cell_type": "code",
   "execution_count": 95,
   "metadata": {},
   "outputs": [],
   "source": [
    "from feature_extraction.feature_extraction import Fourier, HOS"
   ]
  },
  {
   "cell_type": "code",
   "execution_count": 196,
   "metadata": {},
   "outputs": [],
   "source": [
    "tf_fourier = Fourier(fs=5000.0, harmonics=(0.5, 1, 1.5, 2.5, 3, 5, 7), fundamental=60, window=10)"
   ]
  },
  {
   "cell_type": "code",
   "execution_count": 197,
   "metadata": {},
   "outputs": [],
   "source": [
    "# plt.plot(data_raw_normal['Current_R'])"
   ]
  },
  {
   "cell_type": "code",
   "execution_count": 198,
   "metadata": {},
   "outputs": [
    {
     "data": {
      "text/plain": [
       "{'fft': array([0.01720034, 0.0021591 , 0.00358161, ..., 0.00281298, 0.00057278,\n",
       "        0.00353829]),\n",
       " 'frequency': array([0.00000000e+00, 1.00004000e-01, 2.00008000e-01, ...,\n",
       "        2.49979999e+03, 2.49990000e+03, 2.50000000e+03]),\n",
       " 'features': [0.002133442562913511,\n",
       "  0.005440678359628316,\n",
       "  0.0036462996396356066,\n",
       "  0.0030286058494310097,\n",
       "  0.0032869067603151798,\n",
       "  0.003966425845476924,\n",
       "  0.004169981105669104],\n",
       " 'features_vector': [0.5000200008000321,\n",
       "  1.0000400016000641,\n",
       "  1.6000640025601023,\n",
       "  2.700108004320173,\n",
       "  3.2001280051202046,\n",
       "  5.400216008640346,\n",
       "  7.6003040121604855]}"
      ]
     },
     "execution_count": 198,
     "metadata": {},
     "output_type": "execute_result"
    }
   ],
   "source": [
    "tf_fourier.transform(data_raw_normal['Current_R'])"
   ]
  },
  {
   "cell_type": "code",
   "execution_count": 199,
   "metadata": {},
   "outputs": [
    {
     "data": {
      "text/plain": [
       "{'rms': 1.7294229225828563,\n",
       " 'variance': 2.9908894999907614,\n",
       " 'skewness': -0.0020636243361441217,\n",
       " 'kurtosis': -1.4783552811506835,\n",
       " 'features': [1.7294229225828563,\n",
       "  2.9908894999907614,\n",
       "  -0.0020636243361441217,\n",
       "  -1.4783552811506835]}"
      ]
     },
     "execution_count": 199,
     "metadata": {},
     "output_type": "execute_result"
    }
   ],
   "source": [
    "HOS().transform(data_raw_normal['Current_R'])"
   ]
  },
  {
   "cell_type": "markdown",
   "metadata": {},
   "source": [
    "# Montar o sistema real"
   ]
  },
  {
   "cell_type": "markdown",
   "metadata": {},
   "source": [
    "Carregar dado"
   ]
  },
  {
   "cell_type": "code",
   "execution_count": 221,
   "metadata": {},
   "outputs": [],
   "source": [
    "DATA_TO_READ = join(DATA_CURRENT_RAW_FOLDER, 'v000_NORMAL_FR6000_FG5955_L000_0,5IN_SENSORC.csv')\n",
    "# DATA_TO_READ = join(DATA_CURRENT_RAW_FOLDER, 'v000_FAULT_SC_LI_LVL3_FR6000_FG5923_L000_0,4IN_SENSORC.csv')"
   ]
  },
  {
   "cell_type": "code",
   "execution_count": 222,
   "metadata": {},
   "outputs": [],
   "source": [
    "data_raw_normal = pd.read_csv(DATA_TO_READ)"
   ]
  },
  {
   "cell_type": "markdown",
   "metadata": {},
   "source": [
    "Extrair atributo"
   ]
  },
  {
   "cell_type": "code",
   "execution_count": 223,
   "metadata": {},
   "outputs": [
    {
     "data": {
      "text/plain": [
       "array([0.00196223, 0.00299272, 0.00265553, 0.00344627, 0.00296197,\n",
       "       0.00350715, 0.00320512])"
      ]
     },
     "execution_count": 223,
     "metadata": {},
     "output_type": "execute_result"
    }
   ],
   "source": [
    "import numpy as np\n",
    "x_feature = np.array(tf_fourier.transform(data_raw_normal['Current_R'])['features'])\n",
    "x_feature"
   ]
  },
  {
   "cell_type": "code",
   "execution_count": 224,
   "metadata": {},
   "outputs": [
    {
     "data": {
      "text/plain": [
       "array([0.65566815, 1.        , 0.88733028, 1.15155087, 0.98972416,\n",
       "       1.17189389, 1.07097263])"
      ]
     },
     "execution_count": 224,
     "metadata": {},
     "output_type": "execute_result"
    }
   ],
   "source": [
    "x_feature = x_feature/x_feature[1]\n",
    "x_feature"
   ]
  },
  {
   "cell_type": "code",
   "execution_count": 225,
   "metadata": {},
   "outputs": [
    {
     "data": {
      "text/plain": [
       "array([0.65566815, 0.88733028, 1.15155087, 0.98972416, 1.17189389,\n",
       "       1.07097263])"
      ]
     },
     "execution_count": 225,
     "metadata": {},
     "output_type": "execute_result"
    }
   ],
   "source": [
    "x_feature = np.delete(x_feature, 1)\n",
    "x_feature"
   ]
  },
  {
   "cell_type": "code",
   "execution_count": 226,
   "metadata": {},
   "outputs": [
    {
     "data": {
      "text/plain": [
       "array([[0.65566815, 0.88733028, 1.15155087, 0.98972416, 1.17189389,\n",
       "        1.07097263]])"
      ]
     },
     "execution_count": 226,
     "metadata": {},
     "output_type": "execute_result"
    }
   ],
   "source": [
    "x_feature = x_feature.reshape((1,-1))\n",
    "x_feature"
   ]
  },
  {
   "cell_type": "markdown",
   "metadata": {},
   "source": [
    "Normalização"
   ]
  },
  {
   "cell_type": "code",
   "execution_count": 227,
   "metadata": {},
   "outputs": [
    {
     "data": {
      "text/plain": [
       "array([[105.57993294, 207.29405919, 762.27322753,  27.46048417,\n",
       "         61.40859379, 150.19768072]])"
      ]
     },
     "execution_count": 227,
     "metadata": {},
     "output_type": "execute_result"
    }
   ],
   "source": [
    "x_std = scaler.transform(x_feature)\n",
    "x_std"
   ]
  },
  {
   "cell_type": "code",
   "execution_count": 228,
   "metadata": {},
   "outputs": [
    {
     "data": {
      "text/plain": [
       "array([7])"
      ]
     },
     "execution_count": 228,
     "metadata": {},
     "output_type": "execute_result"
    }
   ],
   "source": [
    "clf_mlp.predict(x_std)"
   ]
  },
  {
   "cell_type": "code",
   "execution_count": null,
   "metadata": {},
   "outputs": [],
   "source": [
    "full_pippeline = FeatureUnion(\n",
    "        [\n",
    "            ('features_sf1', pipe_01),\n",
    "            ('features_sf2', pipe_02),\n",
    "        ]\n",
    "    )"
   ]
  },
  {
   "cell_type": "code",
   "execution_count": null,
   "metadata": {},
   "outputs": [],
   "source": [
    "    pipe_01 = Pipeline(\n",
    "        [\n",
    "            ('selector_sf1', tf_fourier),\n",
    "            ('scaler_sf1', scaler),\n",
    "        ]\n",
    "    )"
   ]
  },
  {
   "cell_type": "code",
   "execution_count": null,
   "metadata": {},
   "outputs": [],
   "source": []
  },
  {
   "cell_type": "code",
   "execution_count": null,
   "metadata": {},
   "outputs": [],
   "source": []
  },
  {
   "cell_type": "code",
   "execution_count": null,
   "metadata": {},
   "outputs": [],
   "source": []
  }
 ],
 "metadata": {
  "kernelspec": {
   "display_name": "Python 3",
   "language": "python",
   "name": "python3"
  },
  "language_info": {
   "codemirror_mode": {
    "name": "ipython",
    "version": 3
   },
   "file_extension": ".py",
   "mimetype": "text/x-python",
   "name": "python",
   "nbconvert_exporter": "python",
   "pygments_lexer": "ipython3",
   "version": "3.6.9"
  }
 },
 "nbformat": 4,
 "nbformat_minor": 4
}
