{
 "cells": [
  {
   "cell_type": "code",
   "execution_count": 1,
   "metadata": {},
   "outputs": [],
   "source": [
    "from sklearn.externals import joblib\n",
    "import pandas as pd\n",
    "from os.path import join\n",
    "import sys\n",
    "sys.path.append('../src')\n",
    "from transforms import *\n",
    "from config import *"
   ]
  },
  {
   "cell_type": "markdown",
   "metadata": {},
   "source": [
    "# Chosen models"
   ]
  },
  {
   "cell_type": "code",
   "execution_count": 2,
   "metadata": {},
   "outputs": [],
   "source": [
    "SENSORA = 'HOS_mlp'\n",
    "SENSORV_union = 'HOS_mlp'\n",
    "SENSORV_appended = 'HOS_mlp'\n",
    "SENSORC_union = 'FOURIER_mlp'\n",
    "SENSORC_appended = 'FOURIER_mlp'\n",
    "\n",
    "experiments = ['SENSORA/appended', 'SENSORV/union', 'SENSORV/appended', 'SENSORC/union', 'SENSORC/appended']\n",
    "\n",
    "metrics = ['acc', 'fpr_weighted', 'fnr_weighted']"
   ]
  },
  {
   "cell_type": "code",
   "execution_count": 3,
   "metadata": {},
   "outputs": [],
   "source": [
    "def get_results_filename(model_name='HOS_mlp'):\n",
    "    results_names = []\n",
    "    for m in metrics:\n",
    "        results_names.append(model_name + '_' + m + '.pkl')\n",
    "    \n",
    "    return results_names"
   ]
  },
  {
   "cell_type": "code",
   "execution_count": 4,
   "metadata": {},
   "outputs": [
    {
     "data": {
      "text/plain": [
       "['HOS_mlp_acc.pkl', 'HOS_mlp_fpr_weighted.pkl', 'HOS_mlp_fnr_weighted.pkl']"
      ]
     },
     "execution_count": 4,
     "metadata": {},
     "output_type": "execute_result"
    }
   ],
   "source": [
    "get_results_filename()"
   ]
  },
  {
   "cell_type": "markdown",
   "metadata": {},
   "source": [
    "# Load results"
   ]
  },
  {
   "cell_type": "markdown",
   "metadata": {},
   "source": [
    "### Axial flux sensor"
   ]
  },
  {
   "cell_type": "code",
   "execution_count": 5,
   "metadata": {},
   "outputs": [
    {
     "name": "stdout",
     "output_type": "stream",
     "text": [
      "Loading experiment: ../results/SENSORA/appended/pkl\n",
      "fnames: ['HOS_mlp_acc.pkl', 'HOS_mlp_fpr_weighted.pkl', 'HOS_mlp_fnr_weighted.pkl']\n"
     ]
    }
   ],
   "source": [
    "results_folder = join('..', 'results', experiments[0], 'pkl')\n",
    "fnames = get_results_filename(model_name=SENSORA)\n",
    "print('Loading experiment: {}'.format(results_folder))\n",
    "print('fnames: {}'.format(fnames))\n",
    "SENSORA_APPENDED_ACC = joblib.load(join(results_folder, fnames[0]))\n",
    "SENSORA_APPENDED_FPR = joblib.load(join(results_folder, fnames[1]))\n",
    "SENSORA_APPENDED_FNR = joblib.load(join(results_folder, fnames[2]))"
   ]
  },
  {
   "cell_type": "markdown",
   "metadata": {},
   "source": [
    "### Vibration sensor"
   ]
  },
  {
   "cell_type": "code",
   "execution_count": 6,
   "metadata": {},
   "outputs": [
    {
     "name": "stdout",
     "output_type": "stream",
     "text": [
      "Loading experiment: ../results/SENSORV/union/pkl\n",
      "fnames: ['HOS_mlp_acc.pkl', 'HOS_mlp_fpr_weighted.pkl', 'HOS_mlp_fnr_weighted.pkl']\n",
      "Loading experiment: ../results/SENSORV/appended/pkl\n",
      "fnames: ['HOS_mlp_acc.pkl', 'HOS_mlp_fpr_weighted.pkl', 'HOS_mlp_fnr_weighted.pkl']\n"
     ]
    }
   ],
   "source": [
    "results_folder = join('..', 'results', experiments[1], 'pkl')\n",
    "fnames = get_results_filename(model_name=SENSORV_union)\n",
    "print('Loading experiment: {}'.format(results_folder))\n",
    "print('fnames: {}'.format(fnames))\n",
    "SENSORV_UNION_ACC = joblib.load(join(results_folder, fnames[0]))\n",
    "SENSORV_UNION_FPR = joblib.load(join(results_folder, fnames[1]))\n",
    "SENSORV_UNION_FNR = joblib.load(join(results_folder, fnames[2]))\n",
    "\n",
    "results_folder = join('..', 'results', experiments[2], 'pkl')\n",
    "fnames = get_results_filename(model_name=SENSORV_appended)\n",
    "print('Loading experiment: {}'.format(results_folder))\n",
    "print('fnames: {}'.format(fnames))\n",
    "SENSORV_APPENDED_ACC = joblib.load(join(results_folder, fnames[0]))\n",
    "SENSORV_APPENDED_FPR = joblib.load(join(results_folder, fnames[1]))\n",
    "SENSORV_APPENDED_FNR = joblib.load(join(results_folder, fnames[2]))"
   ]
  },
  {
   "cell_type": "markdown",
   "metadata": {},
   "source": [
    "### Current sensor"
   ]
  },
  {
   "cell_type": "code",
   "execution_count": 7,
   "metadata": {},
   "outputs": [
    {
     "name": "stdout",
     "output_type": "stream",
     "text": [
      "Loading experiment: ../results/SENSORC/union/pkl\n",
      "fnames: ['FOURIER_mlp_acc.pkl', 'FOURIER_mlp_fpr_weighted.pkl', 'FOURIER_mlp_fnr_weighted.pkl']\n",
      "Loading experiment: ../results/SENSORC/appended/pkl\n",
      "fnames: ['FOURIER_mlp_acc.pkl', 'FOURIER_mlp_fpr_weighted.pkl', 'FOURIER_mlp_fnr_weighted.pkl']\n"
     ]
    }
   ],
   "source": [
    "results_folder = join('..', 'results', experiments[3], 'pkl')\n",
    "fnames = get_results_filename(model_name=SENSORC_union)\n",
    "print('Loading experiment: {}'.format(results_folder))\n",
    "print('fnames: {}'.format(fnames))\n",
    "SENSORC_UNION_ACC = joblib.load(join(results_folder, fnames[0]))\n",
    "SENSORC_UNION_FPR = joblib.load(join(results_folder, fnames[1]))\n",
    "SENSORC_UNION_FNR = joblib.load(join(results_folder, fnames[2]))\n",
    "\n",
    "results_folder = join('..', 'results', experiments[4], 'pkl')\n",
    "fnames = get_results_filename(model_name=SENSORC_appended)\n",
    "print('Loading experiment: {}'.format(results_folder))\n",
    "print('fnames: {}'.format(fnames))\n",
    "SENSORC_APPENDED_ACC = joblib.load(join(results_folder, fnames[0]))\n",
    "SENSORC_APPENDED_FPR = joblib.load(join(results_folder, fnames[1]))\n",
    "SENSORC_APPENDED_FNR = joblib.load(join(results_folder, fnames[2]))"
   ]
  },
  {
   "cell_type": "markdown",
   "metadata": {},
   "source": [
    "## Build the DataFrame"
   ]
  },
  {
   "cell_type": "code",
   "execution_count": 8,
   "metadata": {},
   "outputs": [
    {
     "data": {
      "text/html": [
       "<div>\n",
       "<style scoped>\n",
       "    .dataframe tbody tr th:only-of-type {\n",
       "        vertical-align: middle;\n",
       "    }\n",
       "\n",
       "    .dataframe tbody tr th {\n",
       "        vertical-align: top;\n",
       "    }\n",
       "\n",
       "    .dataframe thead th {\n",
       "        text-align: right;\n",
       "    }\n",
       "</style>\n",
       "<table border=\"1\" class=\"dataframe\">\n",
       "  <thead>\n",
       "    <tr style=\"text-align: right;\">\n",
       "      <th></th>\n",
       "      <th>acc</th>\n",
       "      <th>fpr_weighted</th>\n",
       "      <th>fnr_weighted</th>\n",
       "    </tr>\n",
       "  </thead>\n",
       "  <tbody>\n",
       "    <tr>\n",
       "      <th>SENSORA/appended</th>\n",
       "      <td>NaN</td>\n",
       "      <td>NaN</td>\n",
       "      <td>NaN</td>\n",
       "    </tr>\n",
       "    <tr>\n",
       "      <th>SENSORV/union</th>\n",
       "      <td>NaN</td>\n",
       "      <td>NaN</td>\n",
       "      <td>NaN</td>\n",
       "    </tr>\n",
       "    <tr>\n",
       "      <th>SENSORV/appended</th>\n",
       "      <td>NaN</td>\n",
       "      <td>NaN</td>\n",
       "      <td>NaN</td>\n",
       "    </tr>\n",
       "    <tr>\n",
       "      <th>SENSORC/union</th>\n",
       "      <td>NaN</td>\n",
       "      <td>NaN</td>\n",
       "      <td>NaN</td>\n",
       "    </tr>\n",
       "    <tr>\n",
       "      <th>SENSORC/appended</th>\n",
       "      <td>NaN</td>\n",
       "      <td>NaN</td>\n",
       "      <td>NaN</td>\n",
       "    </tr>\n",
       "  </tbody>\n",
       "</table>\n",
       "</div>"
      ],
      "text/plain": [
       "                  acc fpr_weighted fnr_weighted\n",
       "SENSORA/appended  NaN          NaN          NaN\n",
       "SENSORV/union     NaN          NaN          NaN\n",
       "SENSORV/appended  NaN          NaN          NaN\n",
       "SENSORC/union     NaN          NaN          NaN\n",
       "SENSORC/appended  NaN          NaN          NaN"
      ]
     },
     "execution_count": 8,
     "metadata": {},
     "output_type": "execute_result"
    }
   ],
   "source": [
    "df = pd.DataFrame(index=experiments, columns=metrics)\n",
    "df"
   ]
  },
  {
   "cell_type": "code",
   "execution_count": 9,
   "metadata": {},
   "outputs": [
    {
     "data": {
      "text/html": [
       "<div>\n",
       "<style scoped>\n",
       "    .dataframe tbody tr th:only-of-type {\n",
       "        vertical-align: middle;\n",
       "    }\n",
       "\n",
       "    .dataframe tbody tr th {\n",
       "        vertical-align: top;\n",
       "    }\n",
       "\n",
       "    .dataframe thead th {\n",
       "        text-align: right;\n",
       "    }\n",
       "</style>\n",
       "<table border=\"1\" class=\"dataframe\">\n",
       "  <thead>\n",
       "    <tr style=\"text-align: right;\">\n",
       "      <th></th>\n",
       "      <th>acc</th>\n",
       "      <th>fpr_weighted</th>\n",
       "      <th>fnr_weighted</th>\n",
       "    </tr>\n",
       "  </thead>\n",
       "  <tbody>\n",
       "    <tr>\n",
       "      <th>SENSORA/appended</th>\n",
       "      <td>[0.6666666666666666, 0.7666666666666667, 0.666...</td>\n",
       "      <td>[0.0, 0.0, 0.0, 0.0, 0.0, 0.8324999999999999, ...</td>\n",
       "      <td>[0.0, 0.0, 0.0, 0.0, 1.6675, 1.39, 1.19, 1.042...</td>\n",
       "    </tr>\n",
       "    <tr>\n",
       "      <th>SENSORV/union</th>\n",
       "      <td>[0.9, 0.8666666666666667, 0.8, 0.7241379310344...</td>\n",
       "      <td>[0.0, 0.0, 0.0, 0.0, 0.0, 0.0, 0.0, 0.0, 0.0, ...</td>\n",
       "      <td>[0.0, 0.0, 0.0, 0.0, 0.0, 0.0, 0.0, 0.0, 0.0, ...</td>\n",
       "    </tr>\n",
       "    <tr>\n",
       "      <th>SENSORV/appended</th>\n",
       "      <td>[0.8292682926829268, 0.7682926829268293, 0.853...</td>\n",
       "      <td>[0.0, 0.4995, 0.666, 0.4995, 0.400499999999999...</td>\n",
       "      <td>[0.0, 0.0, 0.0, 0.0, 0.0, 0.0, 0.195, 0.3405, ...</td>\n",
       "    </tr>\n",
       "    <tr>\n",
       "      <th>SENSORC/union</th>\n",
       "      <td>[0.8709677419354839, 0.8709677419354839, 0.838...</td>\n",
       "      <td>[0.0, 0.0, 0.0, 0.0, 0.0, 0.0, 0.0, 0.0, 0.0, ...</td>\n",
       "      <td>[0.0, 0.0, 0.0, 0.0, 0.0, 0.0, 0.0, 0.0, 0.0, ...</td>\n",
       "    </tr>\n",
       "    <tr>\n",
       "      <th>SENSORC/appended</th>\n",
       "      <td>[0.7619047619047619, 0.5595238095238095, 0.607...</td>\n",
       "      <td>[0.0, 0.0, 0.0, 0.0, 0.0, 0.0, 0.0, 0.0, 0.0, ...</td>\n",
       "      <td>[0.0, 0.0, 0.0, 0.0, 0.0, 0.0, 0.0, 0.0, 0.0, ...</td>\n",
       "    </tr>\n",
       "  </tbody>\n",
       "</table>\n",
       "</div>"
      ],
      "text/plain": [
       "                                                                acc  \\\n",
       "SENSORA/appended  [0.6666666666666666, 0.7666666666666667, 0.666...   \n",
       "SENSORV/union     [0.9, 0.8666666666666667, 0.8, 0.7241379310344...   \n",
       "SENSORV/appended  [0.8292682926829268, 0.7682926829268293, 0.853...   \n",
       "SENSORC/union     [0.8709677419354839, 0.8709677419354839, 0.838...   \n",
       "SENSORC/appended  [0.7619047619047619, 0.5595238095238095, 0.607...   \n",
       "\n",
       "                                                       fpr_weighted  \\\n",
       "SENSORA/appended  [0.0, 0.0, 0.0, 0.0, 0.0, 0.8324999999999999, ...   \n",
       "SENSORV/union     [0.0, 0.0, 0.0, 0.0, 0.0, 0.0, 0.0, 0.0, 0.0, ...   \n",
       "SENSORV/appended  [0.0, 0.4995, 0.666, 0.4995, 0.400499999999999...   \n",
       "SENSORC/union     [0.0, 0.0, 0.0, 0.0, 0.0, 0.0, 0.0, 0.0, 0.0, ...   \n",
       "SENSORC/appended  [0.0, 0.0, 0.0, 0.0, 0.0, 0.0, 0.0, 0.0, 0.0, ...   \n",
       "\n",
       "                                                       fnr_weighted  \n",
       "SENSORA/appended  [0.0, 0.0, 0.0, 0.0, 1.6675, 1.39, 1.19, 1.042...  \n",
       "SENSORV/union     [0.0, 0.0, 0.0, 0.0, 0.0, 0.0, 0.0, 0.0, 0.0, ...  \n",
       "SENSORV/appended  [0.0, 0.0, 0.0, 0.0, 0.0, 0.0, 0.195, 0.3405, ...  \n",
       "SENSORC/union     [0.0, 0.0, 0.0, 0.0, 0.0, 0.0, 0.0, 0.0, 0.0, ...  \n",
       "SENSORC/appended  [0.0, 0.0, 0.0, 0.0, 0.0, 0.0, 0.0, 0.0, 0.0, ...  "
      ]
     },
     "execution_count": 9,
     "metadata": {},
     "output_type": "execute_result"
    }
   ],
   "source": [
    "df = pd.DataFrame(index=experiments, columns=metrics)\n",
    "df.loc['SENSORA/appended']['acc'] = SENSORA_APPENDED_ACC\n",
    "df.loc['SENSORA/appended']['fpr_weighted'] = SENSORA_APPENDED_FPR\n",
    "df.loc['SENSORA/appended']['fnr_weighted'] = SENSORA_APPENDED_FNR\n",
    "\n",
    "df.loc['SENSORV/union']['acc'] = SENSORV_UNION_ACC\n",
    "df.loc['SENSORV/union']['fpr_weighted'] = SENSORV_UNION_FPR\n",
    "df.loc['SENSORV/union']['fnr_weighted'] = SENSORV_UNION_FNR\n",
    "df.loc['SENSORV/appended']['acc'] = SENSORV_APPENDED_ACC\n",
    "df.loc['SENSORV/appended']['fpr_weighted'] = SENSORV_APPENDED_FPR\n",
    "df.loc['SENSORV/appended']['fnr_weighted'] = SENSORV_APPENDED_FNR\n",
    "\n",
    "df.loc['SENSORC/union']['acc'] = SENSORC_UNION_ACC\n",
    "df.loc['SENSORC/union']['fpr_weighted'] = SENSORC_UNION_FPR\n",
    "df.loc['SENSORC/union']['fnr_weighted'] = SENSORC_UNION_FNR\n",
    "df.loc['SENSORC/appended']['acc'] = SENSORC_APPENDED_ACC\n",
    "df.loc['SENSORC/appended']['fpr_weighted'] = SENSORC_APPENDED_FPR\n",
    "df.loc['SENSORC/appended']['fnr_weighted'] = SENSORC_APPENDED_FNR\n",
    "\n",
    "df.head()"
   ]
  },
  {
   "cell_type": "markdown",
   "metadata": {},
   "source": [
    "# Employ one way ANOVA and ad-hoc paired Tukey HSD test"
   ]
  },
  {
   "cell_type": "code",
   "execution_count": 10,
   "metadata": {},
   "outputs": [
    {
     "name": "stderr",
     "output_type": "stream",
     "text": [
      "/home/navar/anaconda3/lib/python3.6/importlib/_bootstrap.py:219: RuntimeWarning: numpy.dtype size changed, may indicate binary incompatibility. Expected 96, got 88\n",
      "  return f(*args, **kwds)\n"
     ]
    }
   ],
   "source": [
    "from scipy import stats\n",
    "import statsmodels.api as sm\n",
    "from statsmodels.formula.api import ols\n",
    "\n",
    "def anova_and_tukey(df, metric='acc'):\n",
    "    def get_df_metric(df, metric='acc'):\n",
    "        return pd.DataFrame.from_items(zip(df[metric].index, df[metric].values))\n",
    "\n",
    "    new_df = get_df_metric(df, metric)\n",
    "    fvalue, pvalue =stats.f_oneway(new_df['SENSORA/appended'], new_df['SENSORV/union'], new_df['SENSORV/appended'], \n",
    "              new_df['SENSORC/union'], new_df['SENSORC/appended'])\n",
    "    \n",
    "    # reshape the d dataframe suitable for statsmodels package \n",
    "    d_melt = pd.melt(new_df.reset_index(), id_vars=['index'], value_vars=experiments)\n",
    "    # replace column names\n",
    "    d_melt.columns = ['index', 'sensor', 'value']\n",
    "    # Ordinary Least Squares (OLS) model\n",
    "    model = ols('value ~ C(sensor)', data=d_melt).fit()\n",
    "    anova_table = sm.stats.anova_lm(model, typ=2)\n",
    "    \n",
    "    from statsmodels.stats.multicomp import pairwise_tukeyhsd\n",
    "    from statsmodels.sandbox.stats.multicomp import TukeyHSDResults\n",
    "    from statsmodels.stats.libqsturng import psturng\n",
    "    # perform multiple pairwise comparison (Tukey HSD)\n",
    "    m_comp = pairwise_tukeyhsd(endog=d_melt['value'], groups=d_melt['sensor'], alpha=0.05)\n",
    "    pvalues = psturng(np.abs(m_comp.meandiffs / m_comp.std_pairs), len(m_comp.groupsunique), m_comp.df_total)\n",
    "    \n",
    "    return anova_table, m_comp, pvalues"
   ]
  },
  {
   "cell_type": "markdown",
   "metadata": {},
   "source": [
    "### For ACC"
   ]
  },
  {
   "cell_type": "code",
   "execution_count": 11,
   "metadata": {},
   "outputs": [
    {
     "name": "stderr",
     "output_type": "stream",
     "text": [
      "/home/navar/anaconda3/lib/python3.6/site-packages/ipykernel_launcher.py:7: FutureWarning: from_items is deprecated. Please use DataFrame.from_dict(dict(items), ...) instead. DataFrame.from_dict(OrderedDict(items)) may be used to preserve the key order.\n",
      "  import sys\n"
     ]
    },
    {
     "data": {
      "text/html": [
       "<div>\n",
       "<style scoped>\n",
       "    .dataframe tbody tr th:only-of-type {\n",
       "        vertical-align: middle;\n",
       "    }\n",
       "\n",
       "    .dataframe tbody tr th {\n",
       "        vertical-align: top;\n",
       "    }\n",
       "\n",
       "    .dataframe thead th {\n",
       "        text-align: right;\n",
       "    }\n",
       "</style>\n",
       "<table border=\"1\" class=\"dataframe\">\n",
       "  <thead>\n",
       "    <tr style=\"text-align: right;\">\n",
       "      <th></th>\n",
       "      <th>sum_sq</th>\n",
       "      <th>df</th>\n",
       "      <th>F</th>\n",
       "      <th>PR(&gt;F)</th>\n",
       "    </tr>\n",
       "  </thead>\n",
       "  <tbody>\n",
       "    <tr>\n",
       "      <th>C(sensor)</th>\n",
       "      <td>1.822731</td>\n",
       "      <td>4.0</td>\n",
       "      <td>106.533613</td>\n",
       "      <td>1.927962e-52</td>\n",
       "    </tr>\n",
       "    <tr>\n",
       "      <th>Residual</th>\n",
       "      <td>1.047954</td>\n",
       "      <td>245.0</td>\n",
       "      <td>NaN</td>\n",
       "      <td>NaN</td>\n",
       "    </tr>\n",
       "  </tbody>\n",
       "</table>\n",
       "</div>"
      ],
      "text/plain": [
       "             sum_sq     df           F        PR(>F)\n",
       "C(sensor)  1.822731    4.0  106.533613  1.927962e-52\n",
       "Residual   1.047954  245.0         NaN           NaN"
      ]
     },
     "execution_count": 11,
     "metadata": {},
     "output_type": "execute_result"
    }
   ],
   "source": [
    "anova_acc, m, pvalues = anova_and_tukey(df, 'acc')\n",
    "anova_acc"
   ]
  },
  {
   "cell_type": "code",
   "execution_count": 12,
   "metadata": {},
   "outputs": [
    {
     "data": {
      "text/html": [
       "<table class=\"simpletable\">\n",
       "<caption>Multiple Comparison of Means - Tukey HSD,FWER=0.05</caption>\n",
       "<tr>\n",
       "       <th>group1</th>           <th>group2</th>      <th>meandiff</th>  <th>lower</th>   <th>upper</th>  <th>reject</th>\n",
       "</tr>\n",
       "<tr>\n",
       "  <td>SENSORA/appended</td> <td>SENSORC/appended</td>  <td>-0.0026</td> <td>-0.0386</td> <td>0.0333</td>   <td>False</td>\n",
       "</tr>\n",
       "<tr>\n",
       "  <td>SENSORA/appended</td>   <td>SENSORC/union</td>   <td>0.2055</td>  <td>0.1696</td>  <td>0.2415</td>   <td>True</td> \n",
       "</tr>\n",
       "<tr>\n",
       "  <td>SENSORA/appended</td> <td>SENSORV/appended</td>  <td>0.1566</td>  <td>0.1206</td>  <td>0.1925</td>   <td>True</td> \n",
       "</tr>\n",
       "<tr>\n",
       "  <td>SENSORA/appended</td>   <td>SENSORV/union</td>   <td>0.1399</td>  <td>0.1039</td>  <td>0.1758</td>   <td>True</td> \n",
       "</tr>\n",
       "<tr>\n",
       "  <td>SENSORC/appended</td>   <td>SENSORC/union</td>   <td>0.2081</td>  <td>0.1722</td>  <td>0.2441</td>   <td>True</td> \n",
       "</tr>\n",
       "<tr>\n",
       "  <td>SENSORC/appended</td> <td>SENSORV/appended</td>  <td>0.1592</td>  <td>0.1233</td>  <td>0.1951</td>   <td>True</td> \n",
       "</tr>\n",
       "<tr>\n",
       "  <td>SENSORC/appended</td>   <td>SENSORV/union</td>   <td>0.1425</td>  <td>0.1066</td>  <td>0.1785</td>   <td>True</td> \n",
       "</tr>\n",
       "<tr>\n",
       "    <td>SENSORC/union</td>  <td>SENSORV/appended</td>  <td>-0.0489</td> <td>-0.0849</td> <td>-0.013</td>   <td>True</td> \n",
       "</tr>\n",
       "<tr>\n",
       "    <td>SENSORC/union</td>    <td>SENSORV/union</td>   <td>-0.0656</td> <td>-0.1016</td> <td>-0.0297</td>  <td>True</td> \n",
       "</tr>\n",
       "<tr>\n",
       "  <td>SENSORV/appended</td>   <td>SENSORV/union</td>   <td>-0.0167</td> <td>-0.0526</td> <td>0.0193</td>   <td>False</td>\n",
       "</tr>\n",
       "</table>"
      ],
      "text/plain": [
       "<class 'statsmodels.iolib.table.SimpleTable'>"
      ]
     },
     "execution_count": 12,
     "metadata": {},
     "output_type": "execute_result"
    }
   ],
   "source": [
    "m.summary()"
   ]
  },
  {
   "cell_type": "code",
   "execution_count": 13,
   "metadata": {},
   "outputs": [
    {
     "data": {
      "text/plain": [
       "array([0.9       , 0.001     , 0.001     , 0.001     , 0.001     ,\n",
       "       0.001     , 0.001     , 0.00211188, 0.001     , 0.68187907])"
      ]
     },
     "execution_count": 13,
     "metadata": {},
     "output_type": "execute_result"
    }
   ],
   "source": [
    "pvalues"
   ]
  },
  {
   "cell_type": "markdown",
   "metadata": {},
   "source": [
    "### For FPR-W and FNR-W"
   ]
  },
  {
   "cell_type": "code",
   "execution_count": 14,
   "metadata": {},
   "outputs": [
    {
     "name": "stderr",
     "output_type": "stream",
     "text": [
      "/home/navar/anaconda3/lib/python3.6/site-packages/ipykernel_launcher.py:7: FutureWarning: from_items is deprecated. Please use DataFrame.from_dict(dict(items), ...) instead. DataFrame.from_dict(OrderedDict(items)) may be used to preserve the key order.\n",
      "  import sys\n"
     ]
    },
    {
     "data": {
      "text/html": [
       "<div>\n",
       "<style scoped>\n",
       "    .dataframe tbody tr th:only-of-type {\n",
       "        vertical-align: middle;\n",
       "    }\n",
       "\n",
       "    .dataframe tbody tr th {\n",
       "        vertical-align: top;\n",
       "    }\n",
       "\n",
       "    .dataframe thead th {\n",
       "        text-align: right;\n",
       "    }\n",
       "</style>\n",
       "<table border=\"1\" class=\"dataframe\">\n",
       "  <thead>\n",
       "    <tr style=\"text-align: right;\">\n",
       "      <th></th>\n",
       "      <th>sum_sq</th>\n",
       "      <th>df</th>\n",
       "      <th>F</th>\n",
       "      <th>PR(&gt;F)</th>\n",
       "    </tr>\n",
       "  </thead>\n",
       "  <tbody>\n",
       "    <tr>\n",
       "      <th>C(sensor)</th>\n",
       "      <td>2.786493</td>\n",
       "      <td>4.0</td>\n",
       "      <td>74.223142</td>\n",
       "      <td>3.996908e-41</td>\n",
       "    </tr>\n",
       "    <tr>\n",
       "      <th>Residual</th>\n",
       "      <td>2.299454</td>\n",
       "      <td>245.0</td>\n",
       "      <td>NaN</td>\n",
       "      <td>NaN</td>\n",
       "    </tr>\n",
       "  </tbody>\n",
       "</table>\n",
       "</div>"
      ],
      "text/plain": [
       "             sum_sq     df          F        PR(>F)\n",
       "C(sensor)  2.786493    4.0  74.223142  3.996908e-41\n",
       "Residual   2.299454  245.0        NaN           NaN"
      ]
     },
     "execution_count": 14,
     "metadata": {},
     "output_type": "execute_result"
    }
   ],
   "source": [
    "anova_fpr, m, pvalues = anova_and_tukey(df, 'fpr_weighted')\n",
    "anova_fpr"
   ]
  },
  {
   "cell_type": "code",
   "execution_count": 15,
   "metadata": {},
   "outputs": [
    {
     "data": {
      "text/html": [
       "<table class=\"simpletable\">\n",
       "<caption>Multiple Comparison of Means - Tukey HSD,FWER=0.05</caption>\n",
       "<tr>\n",
       "       <th>group1</th>           <th>group2</th>      <th>meandiff</th>  <th>lower</th>   <th>upper</th>  <th>reject</th>\n",
       "</tr>\n",
       "<tr>\n",
       "  <td>SENSORA/appended</td> <td>SENSORC/appended</td>  <td>-0.2339</td> <td>-0.2872</td> <td>-0.1807</td>  <td>True</td> \n",
       "</tr>\n",
       "<tr>\n",
       "  <td>SENSORA/appended</td>   <td>SENSORC/union</td>   <td>-0.2339</td> <td>-0.2872</td> <td>-0.1807</td>  <td>True</td> \n",
       "</tr>\n",
       "<tr>\n",
       "  <td>SENSORA/appended</td> <td>SENSORV/appended</td>  <td>0.0015</td>  <td>-0.0518</td> <td>0.0547</td>   <td>False</td>\n",
       "</tr>\n",
       "<tr>\n",
       "  <td>SENSORA/appended</td>   <td>SENSORV/union</td>   <td>-0.1452</td> <td>-0.1984</td> <td>-0.0919</td>  <td>True</td> \n",
       "</tr>\n",
       "<tr>\n",
       "  <td>SENSORC/appended</td>   <td>SENSORC/union</td>     <td>0.0</td>   <td>-0.0532</td> <td>0.0532</td>   <td>False</td>\n",
       "</tr>\n",
       "<tr>\n",
       "  <td>SENSORC/appended</td> <td>SENSORV/appended</td>  <td>0.2354</td>  <td>0.1822</td>  <td>0.2887</td>   <td>True</td> \n",
       "</tr>\n",
       "<tr>\n",
       "  <td>SENSORC/appended</td>   <td>SENSORV/union</td>   <td>0.0888</td>  <td>0.0356</td>   <td>0.142</td>   <td>True</td> \n",
       "</tr>\n",
       "<tr>\n",
       "    <td>SENSORC/union</td>  <td>SENSORV/appended</td>  <td>0.2354</td>  <td>0.1822</td>  <td>0.2887</td>   <td>True</td> \n",
       "</tr>\n",
       "<tr>\n",
       "    <td>SENSORC/union</td>    <td>SENSORV/union</td>   <td>0.0888</td>  <td>0.0356</td>   <td>0.142</td>   <td>True</td> \n",
       "</tr>\n",
       "<tr>\n",
       "  <td>SENSORV/appended</td>   <td>SENSORV/union</td>   <td>-0.1466</td> <td>-0.1999</td> <td>-0.0934</td>  <td>True</td> \n",
       "</tr>\n",
       "</table>"
      ],
      "text/plain": [
       "<class 'statsmodels.iolib.table.SimpleTable'>"
      ]
     },
     "execution_count": 15,
     "metadata": {},
     "output_type": "execute_result"
    }
   ],
   "source": [
    "m.summary()"
   ]
  },
  {
   "cell_type": "code",
   "execution_count": 16,
   "metadata": {},
   "outputs": [
    {
     "data": {
      "text/plain": [
       "array([0.001, 0.001, 0.9  , 0.001, 0.9  , 0.001, 0.001, 0.001, 0.001,\n",
       "       0.001])"
      ]
     },
     "execution_count": 16,
     "metadata": {},
     "output_type": "execute_result"
    }
   ],
   "source": [
    "pvalues"
   ]
  },
  {
   "cell_type": "code",
   "execution_count": 17,
   "metadata": {},
   "outputs": [
    {
     "name": "stderr",
     "output_type": "stream",
     "text": [
      "/home/navar/anaconda3/lib/python3.6/site-packages/ipykernel_launcher.py:7: FutureWarning: from_items is deprecated. Please use DataFrame.from_dict(dict(items), ...) instead. DataFrame.from_dict(OrderedDict(items)) may be used to preserve the key order.\n",
      "  import sys\n"
     ]
    },
    {
     "data": {
      "text/html": [
       "<div>\n",
       "<style scoped>\n",
       "    .dataframe tbody tr th:only-of-type {\n",
       "        vertical-align: middle;\n",
       "    }\n",
       "\n",
       "    .dataframe tbody tr th {\n",
       "        vertical-align: top;\n",
       "    }\n",
       "\n",
       "    .dataframe thead th {\n",
       "        text-align: right;\n",
       "    }\n",
       "</style>\n",
       "<table border=\"1\" class=\"dataframe\">\n",
       "  <thead>\n",
       "    <tr style=\"text-align: right;\">\n",
       "      <th></th>\n",
       "      <th>sum_sq</th>\n",
       "      <th>df</th>\n",
       "      <th>F</th>\n",
       "      <th>PR(&gt;F)</th>\n",
       "    </tr>\n",
       "  </thead>\n",
       "  <tbody>\n",
       "    <tr>\n",
       "      <th>C(sensor)</th>\n",
       "      <td>19.600823</td>\n",
       "      <td>4.0</td>\n",
       "      <td>254.396707</td>\n",
       "      <td>5.850120e-86</td>\n",
       "    </tr>\n",
       "    <tr>\n",
       "      <th>Residual</th>\n",
       "      <td>4.719206</td>\n",
       "      <td>245.0</td>\n",
       "      <td>NaN</td>\n",
       "      <td>NaN</td>\n",
       "    </tr>\n",
       "  </tbody>\n",
       "</table>\n",
       "</div>"
      ],
      "text/plain": [
       "              sum_sq     df           F        PR(>F)\n",
       "C(sensor)  19.600823    4.0  254.396707  5.850120e-86\n",
       "Residual    4.719206  245.0         NaN           NaN"
      ]
     },
     "execution_count": 17,
     "metadata": {},
     "output_type": "execute_result"
    }
   ],
   "source": [
    "anova_fnr, m, pvalues = anova_and_tukey(df, 'fnr_weighted')\n",
    "anova_fnr"
   ]
  },
  {
   "cell_type": "code",
   "execution_count": 18,
   "metadata": {},
   "outputs": [
    {
     "data": {
      "text/html": [
       "<table class=\"simpletable\">\n",
       "<caption>Multiple Comparison of Means - Tukey HSD,FWER=0.05</caption>\n",
       "<tr>\n",
       "       <th>group1</th>           <th>group2</th>      <th>meandiff</th>  <th>lower</th>   <th>upper</th>  <th>reject</th>\n",
       "</tr>\n",
       "<tr>\n",
       "  <td>SENSORA/appended</td> <td>SENSORC/appended</td>  <td>-0.7378</td> <td>-0.814</td>  <td>-0.6615</td>  <td>True</td> \n",
       "</tr>\n",
       "<tr>\n",
       "  <td>SENSORA/appended</td>   <td>SENSORC/union</td>   <td>-0.7413</td> <td>-0.8176</td> <td>-0.665</td>   <td>True</td> \n",
       "</tr>\n",
       "<tr>\n",
       "  <td>SENSORA/appended</td> <td>SENSORV/appended</td>  <td>-0.6096</td> <td>-0.6858</td> <td>-0.5333</td>  <td>True</td> \n",
       "</tr>\n",
       "<tr>\n",
       "  <td>SENSORA/appended</td>   <td>SENSORV/union</td>   <td>-0.6689</td> <td>-0.7452</td> <td>-0.5926</td>  <td>True</td> \n",
       "</tr>\n",
       "<tr>\n",
       "  <td>SENSORC/appended</td>   <td>SENSORC/union</td>   <td>-0.0035</td> <td>-0.0798</td> <td>0.0727</td>   <td>False</td>\n",
       "</tr>\n",
       "<tr>\n",
       "  <td>SENSORC/appended</td> <td>SENSORV/appended</td>  <td>0.1282</td>  <td>0.0519</td>  <td>0.2045</td>   <td>True</td> \n",
       "</tr>\n",
       "<tr>\n",
       "  <td>SENSORC/appended</td>   <td>SENSORV/union</td>   <td>0.0688</td>  <td>-0.0074</td> <td>0.1451</td>   <td>False</td>\n",
       "</tr>\n",
       "<tr>\n",
       "    <td>SENSORC/union</td>  <td>SENSORV/appended</td>  <td>0.1317</td>  <td>0.0555</td>   <td>0.208</td>   <td>True</td> \n",
       "</tr>\n",
       "<tr>\n",
       "    <td>SENSORC/union</td>    <td>SENSORV/union</td>   <td>0.0724</td>  <td>-0.0039</td> <td>0.1487</td>   <td>False</td>\n",
       "</tr>\n",
       "<tr>\n",
       "  <td>SENSORV/appended</td>   <td>SENSORV/union</td>   <td>-0.0594</td> <td>-0.1356</td> <td>0.0169</td>   <td>False</td>\n",
       "</tr>\n",
       "</table>"
      ],
      "text/plain": [
       "<class 'statsmodels.iolib.table.SimpleTable'>"
      ]
     },
     "execution_count": 18,
     "metadata": {},
     "output_type": "execute_result"
    }
   ],
   "source": [
    "m.summary()"
   ]
  },
  {
   "cell_type": "code",
   "execution_count": 19,
   "metadata": {},
   "outputs": [
    {
     "data": {
      "text/plain": [
       "array([0.001     , 0.001     , 0.001     , 0.001     , 0.9       ,\n",
       "       0.001     , 0.09848026, 0.001     , 0.07225947, 0.20723816])"
      ]
     },
     "execution_count": 19,
     "metadata": {},
     "output_type": "execute_result"
    }
   ],
   "source": [
    "pvalues"
   ]
  },
  {
   "cell_type": "code",
   "execution_count": 36,
   "metadata": {},
   "outputs": [
    {
     "data": {
      "image/png": "[encoded data removed]",
      "text/plain": [
       "<Figure size 720x432 with 1 Axes>"
      ]
     },
     "execution_count": 36,
     "metadata": {},
     "output_type": "execute_result"
    },
    {
     "data": {
      "image/png": "[encoded data removed]",
      "text/plain": [
       "<Figure size 720x432 with 1 Axes>"
      ]
     },
     "metadata": {},
     "output_type": "display_data"
    }
   ],
   "source": [
    "m.plot_simultaneous()"
   ]
  },
  {
   "cell_type": "markdown",
   "metadata": {},
   "source": [
    "# Employ the paired Hypohesis test of Kolmogorov-Smirnov"
   ]
  },
  {
   "cell_type": "code",
   "execution_count": 20,
   "metadata": {},
   "outputs": [],
   "source": [
    "h_table_acc = pd.DataFrame(index=experiments, columns=experiments)\n",
    "h_table_fpr = pd.DataFrame(index=experiments, columns=experiments)\n",
    "h_table_fnr = pd.DataFrame(index=experiments, columns=experiments)"
   ]
  },
  {
   "cell_type": "code",
   "execution_count": 21,
   "metadata": {},
   "outputs": [],
   "source": [
    "from scipy import stats"
   ]
  },
  {
   "cell_type": "code",
   "execution_count": 22,
   "metadata": {},
   "outputs": [],
   "source": [
    "def ks_test_groups(df, htable, metric):\n",
    "    max_idx = df.shape[0]\n",
    "    for e in range(0, max_idx):\n",
    "        idx = 0\n",
    "        exp1 = df.iloc[e]\n",
    "        for e2 in range(0, max_idx):\n",
    "            exp2 = df.iloc[e2]\n",
    "#             print(\"E1: {}\".format(exp1.name))\n",
    "#             print(\"E2: {}\".format(exp2.name))\n",
    "#             print('=======')\n",
    "            g = df.loc[exp1.name][metric]\n",
    "            f = df.loc[exp2.name][metric]\n",
    "            htable.loc[exp1.name][exp2.name] = stats.ks_2samp(g, f).pvalue\n",
    "            \n",
    "    return htable"
   ]
  },
  {
   "cell_type": "markdown",
   "metadata": {},
   "source": [
    "### For ACC"
   ]
  },
  {
   "cell_type": "code",
   "execution_count": 23,
   "metadata": {},
   "outputs": [
    {
     "data": {
      "text/html": [
       "<div>\n",
       "<style scoped>\n",
       "    .dataframe tbody tr th:only-of-type {\n",
       "        vertical-align: middle;\n",
       "    }\n",
       "\n",
       "    .dataframe tbody tr th {\n",
       "        vertical-align: top;\n",
       "    }\n",
       "\n",
       "    .dataframe thead th {\n",
       "        text-align: right;\n",
       "    }\n",
       "</style>\n",
       "<table border=\"1\" class=\"dataframe\">\n",
       "  <thead>\n",
       "    <tr style=\"text-align: right;\">\n",
       "      <th></th>\n",
       "      <th>SENSORA/appended</th>\n",
       "      <th>SENSORV/union</th>\n",
       "      <th>SENSORV/appended</th>\n",
       "      <th>SENSORC/union</th>\n",
       "      <th>SENSORC/appended</th>\n",
       "    </tr>\n",
       "  </thead>\n",
       "  <tbody>\n",
       "    <tr>\n",
       "      <th>SENSORA/appended</th>\n",
       "      <td>1</td>\n",
       "      <td>1.98244e-10</td>\n",
       "      <td>7.22665e-16</td>\n",
       "      <td>1.24876e-16</td>\n",
       "      <td>0.507658</td>\n",
       "    </tr>\n",
       "    <tr>\n",
       "      <th>SENSORV/union</th>\n",
       "      <td>1.98244e-10</td>\n",
       "      <td>1</td>\n",
       "      <td>0.154629</td>\n",
       "      <td>0.000423183</td>\n",
       "      <td>4.00889e-15</td>\n",
       "    </tr>\n",
       "    <tr>\n",
       "      <th>SENSORV/appended</th>\n",
       "      <td>7.22665e-16</td>\n",
       "      <td>0.154629</td>\n",
       "      <td>1</td>\n",
       "      <td>0.000177784</td>\n",
       "      <td>1.01999e-20</td>\n",
       "    </tr>\n",
       "    <tr>\n",
       "      <th>SENSORC/union</th>\n",
       "      <td>1.24876e-16</td>\n",
       "      <td>0.000423183</td>\n",
       "      <td>0.000177784</td>\n",
       "      <td>1</td>\n",
       "      <td>1.36742e-21</td>\n",
       "    </tr>\n",
       "    <tr>\n",
       "      <th>SENSORC/appended</th>\n",
       "      <td>0.507658</td>\n",
       "      <td>4.00889e-15</td>\n",
       "      <td>1.01999e-20</td>\n",
       "      <td>1.36742e-21</td>\n",
       "      <td>1</td>\n",
       "    </tr>\n",
       "  </tbody>\n",
       "</table>\n",
       "</div>"
      ],
      "text/plain": [
       "                 SENSORA/appended SENSORV/union SENSORV/appended  \\\n",
       "SENSORA/appended                1   1.98244e-10      7.22665e-16   \n",
       "SENSORV/union         1.98244e-10             1         0.154629   \n",
       "SENSORV/appended      7.22665e-16      0.154629                1   \n",
       "SENSORC/union         1.24876e-16   0.000423183      0.000177784   \n",
       "SENSORC/appended         0.507658   4.00889e-15      1.01999e-20   \n",
       "\n",
       "                 SENSORC/union SENSORC/appended  \n",
       "SENSORA/appended   1.24876e-16         0.507658  \n",
       "SENSORV/union      0.000423183      4.00889e-15  \n",
       "SENSORV/appended   0.000177784      1.01999e-20  \n",
       "SENSORC/union                1      1.36742e-21  \n",
       "SENSORC/appended   1.36742e-21                1  "
      ]
     },
     "execution_count": 23,
     "metadata": {},
     "output_type": "execute_result"
    }
   ],
   "source": [
    "r = ks_test_groups(df, htable=h_table_acc, metric='acc')\n",
    "r"
   ]
  },
  {
   "cell_type": "markdown",
   "metadata": {},
   "source": [
    "### For FPR"
   ]
  },
  {
   "cell_type": "code",
   "execution_count": 24,
   "metadata": {},
   "outputs": [
    {
     "data": {
      "text/html": [
       "<div>\n",
       "<style scoped>\n",
       "    .dataframe tbody tr th:only-of-type {\n",
       "        vertical-align: middle;\n",
       "    }\n",
       "\n",
       "    .dataframe tbody tr th {\n",
       "        vertical-align: top;\n",
       "    }\n",
       "\n",
       "    .dataframe thead th {\n",
       "        text-align: right;\n",
       "    }\n",
       "</style>\n",
       "<table border=\"1\" class=\"dataframe\">\n",
       "  <thead>\n",
       "    <tr style=\"text-align: right;\">\n",
       "      <th></th>\n",
       "      <th>SENSORA/appended</th>\n",
       "      <th>SENSORV/union</th>\n",
       "      <th>SENSORV/appended</th>\n",
       "      <th>SENSORC/union</th>\n",
       "      <th>SENSORC/appended</th>\n",
       "    </tr>\n",
       "  </thead>\n",
       "  <tbody>\n",
       "    <tr>\n",
       "      <th>SENSORA/appended</th>\n",
       "      <td>1</td>\n",
       "      <td>3.76175e-08</td>\n",
       "      <td>0.000965589</td>\n",
       "      <td>4.9988e-19</td>\n",
       "      <td>4.9988e-19</td>\n",
       "    </tr>\n",
       "    <tr>\n",
       "      <th>SENSORV/union</th>\n",
       "      <td>3.76175e-08</td>\n",
       "      <td>1</td>\n",
       "      <td>7.22665e-16</td>\n",
       "      <td>2.13176e-14</td>\n",
       "      <td>2.13176e-14</td>\n",
       "    </tr>\n",
       "    <tr>\n",
       "      <th>SENSORV/appended</th>\n",
       "      <td>0.000965589</td>\n",
       "      <td>7.22665e-16</td>\n",
       "      <td>1</td>\n",
       "      <td>1.75725e-22</td>\n",
       "      <td>1.75725e-22</td>\n",
       "    </tr>\n",
       "    <tr>\n",
       "      <th>SENSORC/union</th>\n",
       "      <td>4.9988e-19</td>\n",
       "      <td>2.13176e-14</td>\n",
       "      <td>1.75725e-22</td>\n",
       "      <td>1</td>\n",
       "      <td>1</td>\n",
       "    </tr>\n",
       "    <tr>\n",
       "      <th>SENSORC/appended</th>\n",
       "      <td>4.9988e-19</td>\n",
       "      <td>2.13176e-14</td>\n",
       "      <td>1.75725e-22</td>\n",
       "      <td>1</td>\n",
       "      <td>1</td>\n",
       "    </tr>\n",
       "  </tbody>\n",
       "</table>\n",
       "</div>"
      ],
      "text/plain": [
       "                 SENSORA/appended SENSORV/union SENSORV/appended  \\\n",
       "SENSORA/appended                1   3.76175e-08      0.000965589   \n",
       "SENSORV/union         3.76175e-08             1      7.22665e-16   \n",
       "SENSORV/appended      0.000965589   7.22665e-16                1   \n",
       "SENSORC/union          4.9988e-19   2.13176e-14      1.75725e-22   \n",
       "SENSORC/appended       4.9988e-19   2.13176e-14      1.75725e-22   \n",
       "\n",
       "                 SENSORC/union SENSORC/appended  \n",
       "SENSORA/appended    4.9988e-19       4.9988e-19  \n",
       "SENSORV/union      2.13176e-14      2.13176e-14  \n",
       "SENSORV/appended   1.75725e-22      1.75725e-22  \n",
       "SENSORC/union                1                1  \n",
       "SENSORC/appended             1                1  "
      ]
     },
     "execution_count": 24,
     "metadata": {},
     "output_type": "execute_result"
    }
   ],
   "source": [
    "r = ks_test_groups(df, htable=h_table_fpr, metric='fpr_weighted')\n",
    "r"
   ]
  },
  {
   "cell_type": "markdown",
   "metadata": {},
   "source": [
    "### For FNR"
   ]
  },
  {
   "cell_type": "code",
   "execution_count": 25,
   "metadata": {},
   "outputs": [
    {
     "data": {
      "text/html": [
       "<div>\n",
       "<style scoped>\n",
       "    .dataframe tbody tr th:only-of-type {\n",
       "        vertical-align: middle;\n",
       "    }\n",
       "\n",
       "    .dataframe tbody tr th {\n",
       "        vertical-align: top;\n",
       "    }\n",
       "\n",
       "    .dataframe thead th {\n",
       "        text-align: right;\n",
       "    }\n",
       "</style>\n",
       "<table border=\"1\" class=\"dataframe\">\n",
       "  <thead>\n",
       "    <tr style=\"text-align: right;\">\n",
       "      <th></th>\n",
       "      <th>SENSORA/appended</th>\n",
       "      <th>SENSORV/union</th>\n",
       "      <th>SENSORV/appended</th>\n",
       "      <th>SENSORC/union</th>\n",
       "      <th>SENSORC/appended</th>\n",
       "    </tr>\n",
       "  </thead>\n",
       "  <tbody>\n",
       "    <tr>\n",
       "      <th>SENSORA/appended</th>\n",
       "      <td>1</td>\n",
       "      <td>7.29318e-20</td>\n",
       "      <td>7.29318e-20</td>\n",
       "      <td>7.29318e-20</td>\n",
       "      <td>7.29318e-20</td>\n",
       "    </tr>\n",
       "    <tr>\n",
       "      <th>SENSORV/union</th>\n",
       "      <td>7.29318e-20</td>\n",
       "      <td>1</td>\n",
       "      <td>1.25605e-07</td>\n",
       "      <td>4.8053e-11</td>\n",
       "      <td>4.8053e-11</td>\n",
       "    </tr>\n",
       "    <tr>\n",
       "      <th>SENSORV/appended</th>\n",
       "      <td>7.29318e-20</td>\n",
       "      <td>1.25605e-07</td>\n",
       "      <td>1</td>\n",
       "      <td>3.2843e-18</td>\n",
       "      <td>3.2843e-18</td>\n",
       "    </tr>\n",
       "    <tr>\n",
       "      <th>SENSORC/union</th>\n",
       "      <td>7.29318e-20</td>\n",
       "      <td>4.8053e-11</td>\n",
       "      <td>3.2843e-18</td>\n",
       "      <td>1</td>\n",
       "      <td>0.840948</td>\n",
       "    </tr>\n",
       "    <tr>\n",
       "      <th>SENSORC/appended</th>\n",
       "      <td>7.29318e-20</td>\n",
       "      <td>4.8053e-11</td>\n",
       "      <td>3.2843e-18</td>\n",
       "      <td>0.840948</td>\n",
       "      <td>1</td>\n",
       "    </tr>\n",
       "  </tbody>\n",
       "</table>\n",
       "</div>"
      ],
      "text/plain": [
       "                 SENSORA/appended SENSORV/union SENSORV/appended  \\\n",
       "SENSORA/appended                1   7.29318e-20      7.29318e-20   \n",
       "SENSORV/union         7.29318e-20             1      1.25605e-07   \n",
       "SENSORV/appended      7.29318e-20   1.25605e-07                1   \n",
       "SENSORC/union         7.29318e-20    4.8053e-11       3.2843e-18   \n",
       "SENSORC/appended      7.29318e-20    4.8053e-11       3.2843e-18   \n",
       "\n",
       "                 SENSORC/union SENSORC/appended  \n",
       "SENSORA/appended   7.29318e-20      7.29318e-20  \n",
       "SENSORV/union       4.8053e-11       4.8053e-11  \n",
       "SENSORV/appended    3.2843e-18       3.2843e-18  \n",
       "SENSORC/union                1         0.840948  \n",
       "SENSORC/appended      0.840948                1  "
      ]
     },
     "execution_count": 25,
     "metadata": {},
     "output_type": "execute_result"
    }
   ],
   "source": [
    "r = ks_test_groups(df, htable=h_table_fnr, metric='fnr_weighted')\n",
    "r"
   ]
  },
  {
   "cell_type": "code",
   "execution_count": null,
   "metadata": {},
   "outputs": [],
   "source": []
  },
  {
   "cell_type": "code",
   "execution_count": null,
   "metadata": {},
   "outputs": [],
   "source": []
  },
  {
   "cell_type": "code",
   "execution_count": null,
   "metadata": {},
   "outputs": [],
   "source": []
  },
  {
   "cell_type": "code",
   "execution_count": null,
   "metadata": {},
   "outputs": [],
   "source": []
  }
 ],
 "metadata": {
  "kernelspec": {
   "display_name": "Masters-Feijo",
   "language": "python",
   "name": ".env"
  },
  "language_info": {
   "codemirror_mode": {
    "name": "ipython",
    "version": 3
   },
   "file_extension": ".py",
   "mimetype": "text/x-python",
   "name": "python",
   "nbconvert_exporter": "python",
   "pygments_lexer": "ipython3",
   "version": "3.6.5"
  }
 },
 "nbformat": 4,
 "nbformat_minor": 2
}
